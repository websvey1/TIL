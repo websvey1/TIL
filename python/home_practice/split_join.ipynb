{
 "cells": [
  {
   "cell_type": "markdown",
   "metadata": {},
   "source": [
    "# split 사용 //\n",
    "string을 어떤 구분점(공백이나 ',')을 기준으로 나누어 리스트로 반환"
   ]
  },
  {
   "cell_type": "code",
   "execution_count": 9,
   "metadata": {},
   "outputs": [
    {
     "data": {
      "text/plain": [
       "1"
      ]
     },
     "execution_count": 9,
     "metadata": {},
     "output_type": "execute_result"
    }
   ],
   "source": [
    "test_a = '123,+2,-124'                            #split 예제 split은 string을 list로 바꿔줌\n",
    "sum(list(map(int, test_a.split(','))))"
   ]
  },
  {
   "cell_type": "code",
   "execution_count": 2,
   "metadata": {},
   "outputs": [
    {
     "data": {
      "text/plain": [
       "['123', '+2', '-124']"
      ]
     },
     "execution_count": 2,
     "metadata": {},
     "output_type": "execute_result"
    }
   ],
   "source": [
    "test_a = '123,+2,-124'                            # 1. split으로 쪼개 나누어 리스트화\n",
    "test_a.split(',')"
   ]
  },
  {
   "cell_type": "code",
   "execution_count": 3,
   "metadata": {},
   "outputs": [
    {
     "data": {
      "text/plain": [
       "<map at 0x23717b3f278>"
      ]
     },
     "execution_count": 3,
     "metadata": {},
     "output_type": "execute_result"
    }
   ],
   "source": [
    "test_a = '123,+2,-124'                            # map이라 객체로 구현\n",
    "map(int, test_a.split(','))"
   ]
  },
  {
   "cell_type": "code",
   "execution_count": 4,
   "metadata": {},
   "outputs": [
    {
     "data": {
      "text/plain": [
       "[123, 2, -124]"
      ]
     },
     "execution_count": 4,
     "metadata": {},
     "output_type": "execute_result"
    }
   ],
   "source": [
    "test_a = '123,+2,-124'                            # 객체를 리스트로 형변ㅇ환\n",
    "list(map(int, test_a.split(',')))"
   ]
  },
  {
   "cell_type": "code",
   "execution_count": 5,
   "metadata": {},
   "outputs": [
    {
     "data": {
      "text/plain": [
       "1"
      ]
     },
     "execution_count": 5,
     "metadata": {},
     "output_type": "execute_result"
    }
   ],
   "source": [
    "test_a = '123,+2,-124'                            # 리스트 합\n",
    "sum(list(map(int, test_a.split(','))))"
   ]
  },
  {
   "cell_type": "code",
   "execution_count": 11,
   "metadata": {},
   "outputs": [
    {
     "name": "stdout",
     "output_type": "stream",
     "text": [
      "1\n",
      "1212\n",
      "0\n"
     ]
    }
   ],
   "source": [
    "def calc(equation):                                      #예랑 코드\n",
    "    for i in equation:                                   #숫자 간 구분이 되는 것이 있어야하는데 아무것도 없음\n",
    "        if i == '+':                                     # for문을 돌려 +와 - 앞에 공백을 만듬\n",
    "            equation = equation.replace(i, \" \")          # 공백을 기준으로 split으로 나눔\n",
    "        if i == '-':                                     # 그리고 int로 형변환\n",
    "            equation = equation.replace(i, \" -\")         # 후 리스트 만들어 합을 구함\n",
    "    return sum(list(map(int, equation.split())))\n",
    "print(calc('123+2-124'))\n",
    "print(calc('-12+12-7979+9191'))\n",
    "print(calc('+1-1+1-1+1-1+1-1+1-1+1-1+1-1+1-1+1-1+1-1+1-1+1-1+1-1+1-1+1-1+1-1'))"
   ]
  },
  {
   "cell_type": "code",
   "execution_count": 1,
   "metadata": {},
   "outputs": [
    {
     "ename": "ValueError",
     "evalue": "invalid literal for int() with base 10: '+'",
     "output_type": "error",
     "traceback": [
      "\u001b[1;31m---------------------------------------------------------------------------\u001b[0m",
      "\u001b[1;31mValueError\u001b[0m                                Traceback (most recent call last)",
      "\u001b[1;32m<ipython-input-1-2b64848065e2>\u001b[0m in \u001b[0;36m<module>\u001b[1;34m\u001b[0m\n\u001b[0;32m      5\u001b[0m             \u001b[0ma\u001b[0m\u001b[1;33m.\u001b[0m\u001b[0mremove\u001b[0m\u001b[1;33m(\u001b[0m\u001b[0mi\u001b[0m\u001b[1;33m)\u001b[0m\u001b[1;33m\u001b[0m\u001b[1;33m\u001b[0m\u001b[0m\n\u001b[0;32m      6\u001b[0m     \u001b[1;32mreturn\u001b[0m \u001b[0ma\u001b[0m                                            \u001b[1;31m#  이후 for문을 돌려 if로 타입int가 아니면 제거하려고 생각했었음\u001b[0m\u001b[1;33m\u001b[0m\u001b[1;33m\u001b[0m\u001b[0m\n\u001b[1;32m----> 7\u001b[1;33m \u001b[0mprint\u001b[0m\u001b[1;33m(\u001b[0m\u001b[0mcalc\u001b[0m\u001b[1;33m(\u001b[0m\u001b[1;34m'123+2-124'\u001b[0m\u001b[1;33m)\u001b[0m\u001b[1;33m)\u001b[0m                                \u001b[1;31m#  근데 if문은 과연 돌 수 있을까?\u001b[0m\u001b[1;33m\u001b[0m\u001b[1;33m\u001b[0m\u001b[0m\n\u001b[0m\u001b[0;32m      8\u001b[0m                                                         \u001b[1;31m#   돌려 보니 돌긴 돈다...\u001b[0m\u001b[1;33m\u001b[0m\u001b[1;33m\u001b[0m\u001b[1;33m\u001b[0m\u001b[0m\n",
      "\u001b[1;32m<ipython-input-1-2b64848065e2>\u001b[0m in \u001b[0;36mcalc\u001b[1;34m(equation)\u001b[0m\n\u001b[0;32m      1\u001b[0m \u001b[1;32mdef\u001b[0m \u001b[0mcalc\u001b[0m\u001b[1;33m(\u001b[0m\u001b[0mequation\u001b[0m\u001b[1;33m)\u001b[0m\u001b[1;33m:\u001b[0m                                     \u001b[1;31m# 내가 짠 코드\u001b[0m\u001b[1;33m\u001b[0m\u001b[1;33m\u001b[0m\u001b[0m\n\u001b[1;32m----> 2\u001b[1;33m     \u001b[0ma\u001b[0m \u001b[1;33m=\u001b[0m \u001b[0mlist\u001b[0m\u001b[1;33m(\u001b[0m\u001b[0mmap\u001b[0m\u001b[1;33m(\u001b[0m\u001b[0mint\u001b[0m\u001b[1;33m,\u001b[0m \u001b[0mequation\u001b[0m\u001b[1;33m)\u001b[0m\u001b[1;33m)\u001b[0m                        \u001b[1;31m# 문자열을 숫자로 바꾸려고 생각은 했으나, map으로 str -> int로 형변환 하여\u001b[0m\u001b[1;33m\u001b[0m\u001b[1;33m\u001b[0m\u001b[0m\n\u001b[0m\u001b[0;32m      3\u001b[0m     \u001b[1;32mfor\u001b[0m \u001b[0mi\u001b[0m \u001b[1;32min\u001b[0m \u001b[0ma\u001b[0m\u001b[1;33m:\u001b[0m\u001b[1;33m\u001b[0m\u001b[1;33m\u001b[0m\u001b[0m\n\u001b[0;32m      4\u001b[0m         \u001b[1;32mif\u001b[0m \u001b[0mtype\u001b[0m\u001b[1;33m(\u001b[0m\u001b[0mi\u001b[0m\u001b[1;33m)\u001b[0m \u001b[1;33m!=\u001b[0m \u001b[0mint\u001b[0m\u001b[1;33m:\u001b[0m\u001b[1;33m\u001b[0m\u001b[1;33m\u001b[0m\u001b[0m\n\u001b[0;32m      5\u001b[0m             \u001b[0ma\u001b[0m\u001b[1;33m.\u001b[0m\u001b[0mremove\u001b[0m\u001b[1;33m(\u001b[0m\u001b[0mi\u001b[0m\u001b[1;33m)\u001b[0m\u001b[1;33m\u001b[0m\u001b[1;33m\u001b[0m\u001b[0m\n",
      "\u001b[1;31mValueError\u001b[0m: invalid literal for int() with base 10: '+'"
     ]
    }
   ],
   "source": [
    "def calc(equation):                                     # 내가 짠 코드\n",
    "    a = list(map(int, equation))                        # 문자열을 숫자로 바꾸려고 생각은 했으나, map으로 str -> int로 형변환 하여\n",
    "    for i in a:                        \n",
    "        if type(i) != int:\n",
    "            a.remove(i)\n",
    "    return a                                            #  이후 for문을 돌려 if로 타입int가 아니면 제거하려고 생각했었음\n",
    "print(calc('123+2-124'))                                #  근데 if문은 과연 돌 수 있을까?\n",
    "                                                        #   돌려 보니 돌긴 돈다...\n"
   ]
  },
  {
   "cell_type": "code",
   "execution_count": 26,
   "metadata": {},
   "outputs": [
    {
     "name": "stdout",
     "output_type": "stream",
     "text": [
      "[1, 4]\n"
     ]
    }
   ],
   "source": [
    "a = [1, '2', + 4, '+']\n",
    "for i in a:\n",
    "    if type(i) != int:\n",
    "        a.remove(i)\n",
    "print(a)"
   ]
  },
  {
   "cell_type": "markdown",
   "metadata": {},
   "source": [
    "# join 사용하기 / ㅇㅇㅇ -> 문자열로 변환"
   ]
  },
  {
   "cell_type": "code",
   "execution_count": 43,
   "metadata": {},
   "outputs": [
    {
     "name": "stdout",
     "output_type": "stream",
     "text": [
      "hi,bye\n",
      "['hibye']\n",
      "['h,i,b,y,e']\n",
      "['h', 'i', 'b', 'y', 'e']\n"
     ]
    }
   ],
   "source": [
    "a = ['hi', 'bye']                     # 리스트를 만든후 join 메소드를 사용하면.\n",
    "# print(a.split())                    # 리스트는 스플릿 하지 못함\n",
    "print(','.join(a))                     # 개체들 사이에 '_' 문자가 삽입됌\n",
    "print(''.join(a).split())             # 각자 쪼개진 리스트를 만들려 했는데 실패...\n",
    "print(','.join(a[0]+a[1]).split())    # map을 사용하려 했지만, 더하기로 일단 해결..\n",
    "print(list(''.join(''.join(a))))      # split과 join을 둘다 사용해야 할 줄 알았는데\n",
    "                                      # 아니었다. join으로 두 번 나누었다\n",
    "    "
   ]
  },
  {
   "cell_type": "markdown",
   "metadata": {},
   "source": [
    "# join과 split의 차이점\n",
    "## split은 특정한 공통점(공백, ',')을 갖고있는 단일 문자열에서\n",
    "## 공통점을 기준으로 나눈 새로운 문자열 리스트를 만든다"
   ]
  },
  {
   "cell_type": "code",
   "execution_count": 46,
   "metadata": {},
   "outputs": [
    {
     "data": {
      "text/plain": [
       "['123', '+2', '-124']"
      ]
     },
     "execution_count": 46,
     "metadata": {},
     "output_type": "execute_result"
    }
   ],
   "source": [
    "test_a = '123T+2T-124'                           \n",
    "test_a.split('T')"
   ]
  },
  {
   "cell_type": "markdown",
   "metadata": {},
   "source": [
    "## 하지만 join은 복수의 문자열들 사이에 어떤 기호를 삽입해 구분하는 문자열을 만든다 (리스트가 아니라 문자열을 만든다)"
   ]
  },
  {
   "cell_type": "code",
   "execution_count": null,
   "metadata": {},
   "outputs": [],
   "source": []
  },
  {
   "cell_type": "code",
   "execution_count": 47,
   "metadata": {},
   "outputs": [
    {
     "name": "stdout",
     "output_type": "stream",
     "text": [
      "hi_bye\n"
     ]
    }
   ],
   "source": [
    "a = ['hi', 'bye']                     # 리스트를 만든후 join 메소드를 사용하면.\n",
    "print('_'.join(a))   "
   ]
  },
  {
   "cell_type": "markdown",
   "metadata": {},
   "source": [
    "# 즉 요약하면\n",
    "# split은 하나의 문자열에서 공통적으로 나눌 수 있는 기준점을 정해 여러 문자열로 나눈 리스트를 만들고\n",
    "# join은 여러 문자열을 어떤 기호로 구분하여 통합시킨 문자열을 만든다"
   ]
  },
  {
   "cell_type": "code",
   "execution_count": 55,
   "metadata": {},
   "outputs": [
    {
     "name": "stdout",
     "output_type": "stream",
     "text": [
      "a-s-d-f-z-x-c-v\n",
      "['a', 's', 'd', 'f', 'z', 'x', 'c', 'v']\n",
      "a-s-d-f-z-x-c-v\n"
     ]
    }
   ],
   "source": [
    "a = 'a-s-d-f-z-x-c-v'\n",
    "print(a)\n",
    "b = a.split('-')\n",
    "print(b)\n",
    "c = '-'.join(b)\n",
    "print(c)"
   ]
  }
 ],
 "metadata": {
  "kernelspec": {
   "display_name": "Python 3",
   "language": "python",
   "name": "python3"
  },
  "language_info": {
   "codemirror_mode": {
    "name": "ipython",
    "version": 3
   },
   "file_extension": ".py",
   "mimetype": "text/x-python",
   "name": "python",
   "nbconvert_exporter": "python",
   "pygments_lexer": "ipython3",
   "version": "3.6.7"
  }
 },
 "nbformat": 4,
 "nbformat_minor": 2
}
