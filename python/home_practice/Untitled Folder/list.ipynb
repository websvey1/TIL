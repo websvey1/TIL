{
 "cells": [
  {
   "cell_type": "code",
   "execution_count": 22,
   "metadata": {},
   "outputs": [
    {
     "name": "stdout",
     "output_type": "stream",
     "text": [
      "[3, 4]\n"
     ]
    },
    {
     "data": {
      "text/plain": [
       "int"
      ]
     },
     "execution_count": 22,
     "metadata": {},
     "output_type": "execute_result"
    }
   ],
   "source": [
    "a = [1,2,3,4,5]                  # 리스트 슬라이싱, 마지막 숫자는 포함안함(range와 동일)\n",
    "print(a[2:4])                    # 형태와 관계없이(int형이나 List가 아니더라도) 슬라이싱이 될까?\n",
    "type(a[2])                       # 가능 / 단 문자열 안의 ,는 하나의 개체로 인식"
   ]
  },
  {
   "cell_type": "code",
   "execution_count": 20,
   "metadata": {},
   "outputs": [
    {
     "name": "stdout",
     "output_type": "stream",
     "text": [
      "['3', '4']\n"
     ]
    },
    {
     "data": {
      "text/plain": [
       "str"
      ]
     },
     "execution_count": 20,
     "metadata": {},
     "output_type": "execute_result"
    }
   ],
   "source": [
    "a_1 = ['1', '2', '3', '4', '5']  # 문자열도 인덱스를 통한 슬라이싱 가능\n",
    "print(a_1[2:4])\n",
    "type(a_1[2])"
   ]
  },
  {
   "cell_type": "code",
   "execution_count": 33,
   "metadata": {},
   "outputs": [
    {
     "name": "stdout",
     "output_type": "stream",
     "text": [
      "2,\n",
      "['1', '2', '3', '4', '5']\n",
      "1.,.2.,.3.,.4.,.5\n"
     ]
    }
   ],
   "source": [
    "b = '1,2,3,4,5'                 # 리스트가 아닌 문자열문자열도 가능\n",
    "print(b[2:4])                   # 하지만  ,쉼표를 문자로 인식함\n",
    "print( b.split(\",\"))            # 쉼표를 기준으로 split으로 나눠 리스트 만들기\n",
    "print('.'.join(b))               # join을 하면 ? 숫자와 , 모두 하나의 개체로 인식"
   ]
  },
  {
   "cell_type": "code",
   "execution_count": 31,
   "metadata": {},
   "outputs": [
    {
     "name": "stdout",
     "output_type": "stream",
     "text": [
      "[1, 2, 3, 4, 5]\n"
     ]
    }
   ],
   "source": [
    "b = '1,2,3,4,5'                    #위의 것을 정수형 리스트로 바꾸고싶어졌다\n",
    "b[2:4]                             # \n",
    "print(list(map(int, b.split(\",\")))) # ,을 int형으로 못바꾼다는 에러가 뜰 줄 알았는데\n",
    "                                    # List에서 ,는 의미가 없나보다\n",
    "                                    # 그러면 아래와 같은 상황에서 split을 한다면?"
   ]
  },
  {
   "cell_type": "code",
   "execution_count": 60,
   "metadata": {
    "scrolled": false
   },
   "outputs": [
    {
     "name": "stdout",
     "output_type": "stream",
     "text": [
      "34\n",
      "1,2,3,4,5\n",
      "['12345']\n",
      "['1,2,3,4,5']\n",
      "['1', '2', '3', '4', '5']\n"
     ]
    }
   ],
   "source": [
    "c = '12345'                      # b와의 차이는 쉼표가 없다는 정도\n",
    "print(c[2:4])                    # 슬라이싱은 가능.\n",
    "print(','.join(c))                # join으로 묶으면 의미가 없다. (변화 x)\n",
    "print(c.split(','))               #  ,을 넣어도 소용없음(기준점인 ,이 c에 없기때문\n",
    "print(','.join(c).split())        # 이렇게 ,로 join을 하고 스플릿 해야 제대로 묶임\n",
    "print(list(''.join(c)))"
   ]
  },
  {
   "cell_type": "code",
   "execution_count": 76,
   "metadata": {},
   "outputs": [
    {
     "name": "stdout",
     "output_type": "stream",
     "text": [
      "['a', 'b', 'c', 1, 3, 4]\n",
      "[('a',), ('b',), ('c',), (1,), (3,), (4,)]\n",
      "[('a', 1), ('b', 3), ('c', 4)]\n",
      "1\n"
     ]
    }
   ],
   "source": [
    "list_word = ['a', 'b', 'c']                        # 리스트 더하기\n",
    "list_num = [1, 3, 4]                          # 문자열과 숫자를 더핤 ㅜ있을까\n",
    "print(list_word + list_num)\n",
    "M = list(zip(list_word + list_num))\n",
    "print(M)\n",
    "N = list(zip(list_word, list_num))       # zip을 써보고 싶어졋다\n",
    "print(N)\n",
    "print(N[0][1])"
   ]
  },
  {
   "cell_type": "markdown",
   "metadata": {},
   "source": [
    "# 삭제하는 방법"
   ]
  },
  {
   "cell_type": "code",
   "execution_count": 84,
   "metadata": {},
   "outputs": [
    {
     "name": "stdout",
     "output_type": "stream",
     "text": [
      "[1, 'e', 'r', 5]\n",
      "['e', 'r', 5]\n"
     ]
    }
   ],
   "source": [
    "a = [1, 'e', 3, 'r', 5]              # 문자열과 정수형 이 있는 리스트\n",
    "a.remove(3)                          # 인덱스로 지우는게 아니었나..... 해당 숫자 제거\n",
    "print(a) \n",
    "del a[0]                             # 이게 인덱스로 제거다                    \n",
    "print(a)"
   ]
  }
 ],
 "metadata": {
  "kernelspec": {
   "display_name": "Python 3",
   "language": "python",
   "name": "python3"
  },
  "language_info": {
   "codemirror_mode": {
    "name": "ipython",
    "version": 3
   },
   "file_extension": ".py",
   "mimetype": "text/x-python",
   "name": "python",
   "nbconvert_exporter": "python",
   "pygments_lexer": "ipython3",
   "version": "3.6.7"
  }
 },
 "nbformat": 4,
 "nbformat_minor": 2
}
