{
 "cells": [
  {
   "cell_type": "code",
   "execution_count": 22,
   "metadata": {},
   "outputs": [
    {
     "name": "stdout",
     "output_type": "stream",
     "text": [
      "[3, 4]\n"
     ]
    },
    {
     "data": {
      "text/plain": [
       "int"
      ]
     },
     "execution_count": 22,
     "metadata": {},
     "output_type": "execute_result"
    }
   ],
   "source": [
    "a = [1,2,3,4,5]                  # 리스트 슬라이싱, 마지막 숫자는 포함안함(range와 동일)\n",
    "print(a[2:4])                    # 형태와 관계없이(int형이나 List가 아니더라도) 슬라이싱이 될까?\n",
    "type(a[2])                       # 가능 / 단 문자열 안의 ,는 하나의 개체로 인식"
   ]
  },
  {
   "cell_type": "code",
   "execution_count": 20,
   "metadata": {},
   "outputs": [
    {
     "name": "stdout",
     "output_type": "stream",
     "text": [
      "['3', '4']\n"
     ]
    },
    {
     "data": {
      "text/plain": [
       "str"
      ]
     },
     "execution_count": 20,
     "metadata": {},
     "output_type": "execute_result"
    }
   ],
   "source": [
    "a_1 = ['1', '2', '3', '4', '5']  # 문자열도 인덱스를 통한 슬라이싱 가능\n",
    "print(a_1[2:4])\n",
    "type(a_1[2])"
   ]
  },
  {
   "cell_type": "code",
   "execution_count": 33,
   "metadata": {},
   "outputs": [
    {
     "name": "stdout",
     "output_type": "stream",
     "text": [
      "2,\n",
      "['1', '2', '3', '4', '5']\n",
      "1.,.2.,.3.,.4.,.5\n"
     ]
    }
   ],
   "source": [
    "b = '1,2,3,4,5'                 # 리스트가 아닌 문자열문자열도 가능\n",
    "print(b[2:4])                   # 하지만  ,쉼표를 문자로 인식함\n",
    "print( b.split(\",\"))            # 쉼표를 기준으로 split으로 나눠 리스트 만들기\n",
    "print('.'.join(b))               # join을 하면 ? 숫자와 , 모두 하나의 개체로 인식"
   ]
  },
  {
   "cell_type": "code",
   "execution_count": 31,
   "metadata": {},
   "outputs": [
    {
     "name": "stdout",
     "output_type": "stream",
     "text": [
      "[1, 2, 3, 4, 5]\n"
     ]
    }
   ],
   "source": [
    "b = '1,2,3,4,5'                    #위의 것을 정수형 리스트로 바꾸고싶어졌다\n",
    "b[2:4]                             # \n",
    "print(list(map(int, b.split(\",\")))) # ,을 int형으로 못바꾼다는 에러가 뜰 줄 알았는데\n",
    "                                    # List에서 ,는 의미가 없나보다\n",
    "                                    # 그러면 아래와 같은 상황에서 split을 한다면?"
   ]
  },
  {
   "cell_type": "code",
   "execution_count": 60,
   "metadata": {
    "scrolled": false
   },
   "outputs": [
    {
     "name": "stdout",
     "output_type": "stream",
     "text": [
      "34\n",
      "1,2,3,4,5\n",
      "['12345']\n",
      "['1,2,3,4,5']\n",
      "['1', '2', '3', '4', '5']\n"
     ]
    }
   ],
   "source": [
    "c = '12345'                      # b와의 차이는 쉼표가 없다는 정도\n",
    "print(c[2:4])                    # 슬라이싱은 가능.\n",
    "print(','.join(c))                # join으로 묶으면 의미가 없다. (변화 x)\n",
    "print(c.split(','))               #  ,을 넣어도 소용없음(기준점인 ,이 c에 없기때문\n",
    "print(','.join(c).split())        # 이렇게 ,로 join을 하고 스플릿 해야 제대로 묶임\n",
    "print(list(''.join(c)))"
   ]
  },
  {
   "cell_type": "code",
   "execution_count": 76,
   "metadata": {},
   "outputs": [
    {
     "name": "stdout",
     "output_type": "stream",
     "text": [
      "['a', 'b', 'c', 1, 3, 4]\n",
      "[('a',), ('b',), ('c',), (1,), (3,), (4,)]\n",
      "[('a', 1), ('b', 3), ('c', 4)]\n",
      "1\n"
     ]
    }
   ],
   "source": [
    "list_word = ['a', 'b', 'c']                        # 리스트 더하기\n",
    "list_num = [1, 3, 4]                          # 문자열과 숫자를 더핤 ㅜ있을까\n",
    "print(list_word + list_num)\n",
    "M = list(zip(list_word + list_num))\n",
    "print(M)\n",
    "N = list(zip(list_word, list_num))       # zip을 써보고 싶어졋다\n",
    "print(N)\n",
    "print(N[0][1])"
   ]
  },
  {
   "cell_type": "markdown",
   "metadata": {},
   "source": [
    "# 삭제하는 방법"
   ]
  },
  {
   "cell_type": "code",
   "execution_count": 3,
   "metadata": {},
   "outputs": [
    {
     "name": "stdout",
     "output_type": "stream",
     "text": [
      "[1, 'e', 'r', 5]\n",
      "['e', 'r', 5]\n",
      "['e', 'r']\n",
      "5\n"
     ]
    }
   ],
   "source": [
    "a = [1, 'e', 3, 'r', 5]              # 문자열과 정수형 이 있는 리스트\n",
    "a.remove(3)                          # 인덱스로 지우는게 아니었나..... 해당 숫자 제거\n",
    "print(a)                             # remove는 인덱스로 제거하지 못함\n",
    "del a[0]                                # 이게 인덱스로 제거다                    \n",
    "print(a)                             # \n",
    "b=a.pop()                              # pop은 맨 뒤(a[-1])를 뽑아 낸다\n",
    "print(a)\n",
    "print(b)"
   ]
  },
  {
   "cell_type": "markdown",
   "metadata": {},
   "source": [
    "# 추가하는 방법"
   ]
  },
  {
   "cell_type": "code",
   "execution_count": 12,
   "metadata": {},
   "outputs": [
    {
     "name": "stdout",
     "output_type": "stream",
     "text": [
      "[1, 2, 3, 4, 5, 1]\n",
      "[1, 2, 3, 6, 4, 5, 1]\n",
      "[1, 2, 3, 6, 4, 5, 1, 1, 2]\n"
     ]
    }
   ],
   "source": [
    "z = [1, 2, 3, 4, 5]\n",
    "z.append(1)                         # append는 맨 뒤에만 추가 가능\n",
    "print(z)\n",
    "z.insert(3,6)                       # insert는 원하는 인덱스에 값 추가 가능\n",
    "print(z)\n",
    "z.extend([1,2])                     # extend는 리스트나 튜플만 더할 수 있따. 하지만 결과는 append와 같음.\n",
    "print(z)"
   ]
  },
  {
   "cell_type": "markdown",
   "metadata": {},
   "source": [
    "# 그 외 method"
   ]
  },
  {
   "cell_type": "code",
   "execution_count": 19,
   "metadata": {},
   "outputs": [
    {
     "name": "stdout",
     "output_type": "stream",
     "text": [
      "3\n",
      "['a', 'b', 'c', 'd', 'f']\n",
      "[1, 2, 3, 5, 8]\n",
      "[3, 1, 5, 8, 2]\n"
     ]
    },
    {
     "data": {
      "text/plain": [
       "0"
      ]
     },
     "execution_count": 19,
     "metadata": {},
     "output_type": "execute_result"
    }
   ],
   "source": [
    "y = [1, 'e', 3, 'r', 5, 1, 1]\n",
    "print(y.count(1))                        # 리스트 내 몇개가 있는지 카운트\n",
    "\n",
    "# y.sort()\n",
    "# print(y)                                # int와 str은 정렬 불가\n",
    "x = ['a', 'b', 'c', 'f', 'd']           # 문자 열만은 가능할까?\n",
    "x.sort()                            # 왜안될까?.\n",
    "print(x)                            # sort메서드는 원래 리스트를 정렬한다    rqutyrn값 X\n",
    "v = [3, 1, 5, 8, 2]\n",
    "print(sorted(v))                           # 반면 sorted는 원본 외 새로운 리스트를 만들어 정렬한다.return값 O\n",
    "print(v)                                   # 원래 리스트는 영향x\n",
    "\n",
    "w = [1, 'e', 3, 'r', 5]                   # index는 괄호 안의 인덱스 값이 어떤 값인지를 알려줄까?\n",
    "w.index(1)                                # 아니 , 괄호 안의 값이 어디 인덱스에 있는 있는지 인덱스 위치를 반환!\n"
   ]
  },
  {
   "cell_type": "markdown",
   "metadata": {},
   "source": [
    "# 연습문제\n",
    "[문제1] 리스트 조인\n",
    "\n",
    "['Life', 'is', 'too', 'short'] 라는 리스트를 Life is too short라는 문자열로 만들어 출력해 보자.\n",
    "\n",
    "(힌트. 문자열의 join 함수를 이용해 보자.)\n",
    "\n",
    "\n",
    "[문제2] 리스트 정렬\n",
    "\n",
    "[1, 3, 5, 4, 2]라는 리스트를 [5, 4, 3, 2, 1]로 만들어보자.\n",
    "\n",
    "(힌트. 리스트의 내장함수인 sort와 reverse를 활용해 보자.)"
   ]
  },
  {
   "cell_type": "code",
   "execution_count": 31,
   "metadata": {},
   "outputs": [
    {
     "name": "stdout",
     "output_type": "stream",
     "text": [
      "Life is too short\n",
      "[5, 4, 3, 2, 1]\n"
     ]
    }
   ],
   "source": [
    "p = ['Life', 'is', 'too', 'short']\n",
    "print(' '.join(p))\n",
    "s = [1, 3, 5, 4, 2]\n",
    "s.sort()\n",
    "s.reverse()\n",
    "print(s)"
   ]
  }
 ],
 "metadata": {
  "kernelspec": {
   "display_name": "Python 3",
   "language": "python",
   "name": "python3"
  },
  "language_info": {
   "codemirror_mode": {
    "name": "ipython",
    "version": 3
   },
   "file_extension": ".py",
   "mimetype": "text/x-python",
   "name": "python",
   "nbconvert_exporter": "python",
   "pygments_lexer": "ipython3",
   "version": "3.6.7"
  }
 },
 "nbformat": 4,
 "nbformat_minor": 2
}
