{
 "cells": [
  {
   "cell_type": "code",
   "execution_count": null,
   "metadata": {},
   "outputs": [],
   "source": [
    "a = 5                           # a는 정수\n",
    "if a:                           # a가참이면,   == a == True\n",
    "    print(\"O\")\n",
    "else:                           # a가 참이 아니면,   a != True == a == False\n",
    "    print(\"X\")"
   ]
  },
  {
   "cell_type": "code",
   "execution_count": null,
   "metadata": {},
   "outputs": [],
   "source": [
    "a= 5\n",
    "print(\"o\") if a else print(\"x\")"
   ]
  },
  {
   "cell_type": "code",
   "execution_count": null,
   "metadata": {},
   "outputs": [],
   "source": [
    "seol = 'tjf'\n",
    "if 'j' in seol:\n",
    "    print('O')\n",
    "else:\n",
    "    print('x')"
   ]
  },
  {
   "cell_type": "code",
   "execution_count": null,
   "metadata": {},
   "outputs": [],
   "source": [
    "a = 10\n",
    "if a:\n",
    "    print('a')\n",
    "else:\n",
    "    print('no')"
   ]
  },
  {
   "cell_type": "code",
   "execution_count": null,
   "metadata": {},
   "outputs": [],
   "source": [
    "a = 1\n",
    "print('a') if a else print('no')"
   ]
  },
  {
   "cell_type": "code",
   "execution_count": null,
   "metadata": {},
   "outputs": [],
   "source": [
    "pocket = ['paper', 'cellphone', 'money']\n",
    "if 'money' in pocket:\n",
    "    print(\"TAKE A TAXI\")\n",
    "else:\n",
    "    print(\"BY WALK\")"
   ]
  },
  {
   "cell_type": "code",
   "execution_count": null,
   "metadata": {},
   "outputs": [],
   "source": [
    "#연습문제\n",
    "a = \"Life is stoo short, you need python\"\n",
    "if 'wife' in a:\n",
    "    print('wife')\n",
    "elif 'python' in a and 'you' not in a:\n",
    "    print('python')\n",
    "elif 'shirt' not in a:             # 나는 이 구문과 아래구분 두개가 실행되어\n",
    "    print('shirt')                # 'shirt'와 'need'가 실행될 줄 알앗는데\n",
    "elif 'need' in a:                 # 착가이었다. 하나밖에 실행되지 않는다...\n",
    "    print('need')\n",
    "else:\n",
    "    print('none')\n"
   ]
  },
  {
   "cell_type": "markdown",
   "metadata": {},
   "source": [
    "# while문"
   ]
  },
  {
   "cell_type": "markdown",
   "metadata": {},
   "source": [
    "#### while문은 조건문이 참일때만 반복한다."
   ]
  },
  {
   "cell_type": "code",
   "execution_count": null,
   "metadata": {},
   "outputs": [],
   "source": [
    "\n",
    "a = 0\n",
    "sum = 0\n",
    "while a<15:\n",
    "#     a += 1\n",
    "    sum += a\n",
    "    a += 1\n",
    "print(a)            # a가 15보다 작을때까지 돌아서, 0~14까지의 합이라고 생각할수있지만\n",
    "print(sum)          # a가 14일때 반복문이 실행되고 a가 증가하고 sum이 실행되므로(후증가)\n",
    "                    # a 가 15일때도 실행. a와 sum의 순서를  바꾸면 14까지 합이 구해짐\n",
    "    "
   ]
  },
  {
   "cell_type": "code",
   "execution_count": null,
   "metadata": {},
   "outputs": [],
   "source": [
    "prompt = \"\"\"\n",
    "1. Add\n",
    "2. Del\n",
    "3. List\n",
    "4. Quit\n",
    "\n",
    "Enter numbet : \"\"\"\n"
   ]
  },
  {
   "cell_type": "code",
   "execution_count": null,
   "metadata": {},
   "outputs": [],
   "source": [
    "num = 0\n",
    "while num != 4:\n",
    "    print(prompt)\n",
    "    num = int(input()) # 4를 입력해야 빠져나가는 반복문"
   ]
  },
  {
   "cell_type": "code",
   "execution_count": null,
   "metadata": {},
   "outputs": [],
   "source": [
    "coffee = 10\n",
    "while True:\n",
    "    money = int(input(\"돈을 넣어주세요\"))\n",
    "    if money == 300:\n",
    "        print(\"커피를 줍니다\")\n",
    "        coffee -= 1\n",
    "    elif money > 300:\n",
    "        print(\"거스름돈 {money-300}을 주고 커피를 줍니다.\")\n",
    "        coffee -= 1\n",
    "    else:\n",
    "        print(\"돈을 다시 돌려주고 커피를 주지 않습니다.\")\n",
    "        print(\"남은 커피의 양은 {coffee}개 입니다\")\n",
    "    if coffee == 0:\n",
    "        print(\"커피가 다 떨어졌습니다 판매를 중지합니다\")\n",
    "        break"
   ]
  },
  {
   "cell_type": "code",
   "execution_count": null,
   "metadata": {},
   "outputs": [],
   "source": [
    "a= 0\n",
    "while a< 10:\n",
    "    a += 1\n",
    "    if a%2 ==0:\n",
    "        continue  # continue는 처음으로 돌아간다.\n",
    "    print(a)"
   ]
  },
  {
   "cell_type": "code",
   "execution_count": 5,
   "metadata": {},
   "outputs": [
    {
     "name": "stdout",
     "output_type": "stream",
     "text": [
      "166833\n"
     ]
    }
   ],
   "source": [
    "# 연습문제 1~ 1000 의 3의배수 합 구하기\n",
    "a = 0\n",
    "sum_a = 0\n",
    "while a<=1000:\n",
    "    if a % 3 == 0:\n",
    "        sum_a += a\n",
    "        a += 1\n",
    "    else:\n",
    "        a +=1\n",
    "        continue\n",
    "print(sum_a)"
   ]
  },
  {
   "cell_type": "code",
   "execution_count": 3,
   "metadata": {},
   "outputs": [
    {
     "name": "stdout",
     "output_type": "stream",
     "text": [
      "481\n"
     ]
    }
   ],
   "source": [
    "# 50점 이상의 총 합\n",
    "A = [20, 55, 67, 82, 45, 33, 90, 87, 100, 25]\n",
    "a = 0\n",
    "result = 0\n",
    "while a < len(A):\n",
    "    if A[a] >= 50:\n",
    "        result += A[a]\n",
    "        a += 1\n",
    "    else:\n",
    "        a += 1\n",
    "        continue\n",
    "print(result)"
   ]
  },
  {
   "cell_type": "code",
   "execution_count": 6,
   "metadata": {},
   "outputs": [
    {
     "name": "stdout",
     "output_type": "stream",
     "text": [
      "*\n",
      "**\n",
      "***\n",
      "****\n"
     ]
    }
   ],
   "source": [
    "a = 0\n",
    "while a < 4:\n",
    "    a += 1\n",
    "    print('*'*a)"
   ]
  }
 ],
 "metadata": {
  "kernelspec": {
   "display_name": "Python 3",
   "language": "python",
   "name": "python3"
  },
  "language_info": {
   "codemirror_mode": {
    "name": "ipython",
    "version": 3
   },
   "file_extension": ".py",
   "mimetype": "text/x-python",
   "name": "python",
   "nbconvert_exporter": "python",
   "pygments_lexer": "ipython3",
   "version": "3.6.7"
  }
 },
 "nbformat": 4,
 "nbformat_minor": 2
}
