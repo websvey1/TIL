{
 "cells": [
  {
   "cell_type": "markdown",
   "metadata": {},
   "source": [
    "# 함수"
   ]
  },
  {
   "cell_type": "code",
   "execution_count": 2,
   "metadata": {},
   "outputs": [
    {
     "data": {
      "text/plain": [
       "1887"
      ]
     },
     "execution_count": 2,
     "metadata": {},
     "output_type": "execute_result"
    }
   ],
   "source": [
    "def add(a,b):\n",
    "    return a+b\n",
    "add(999, 888)"
   ]
  },
  {
   "cell_type": "code",
   "execution_count": 7,
   "metadata": {},
   "outputs": [
    {
     "data": {
      "text/plain": [
       "'권민지 바보'"
      ]
     },
     "execution_count": 7,
     "metadata": {},
     "output_type": "execute_result"
    }
   ],
   "source": [
    "def kwon(a):\n",
    "    return f'{a} 바보'\n",
    "kwon('권민지')\n"
   ]
  },
  {
   "cell_type": "code",
   "execution_count": 10,
   "metadata": {},
   "outputs": [
    {
     "data": {
      "text/plain": [
       "'hi'"
      ]
     },
     "execution_count": 10,
     "metadata": {},
     "output_type": "execute_result"
    }
   ],
   "source": [
    "def say():   # 입력값이 없다\n",
    "    return 'hi'\n",
    "say()\n"
   ]
  },
  {
   "cell_type": "code",
   "execution_count": 18,
   "metadata": {},
   "outputs": [
    {
     "name": "stdout",
     "output_type": "stream",
     "text": [
      "hi\n",
      "None\n"
     ]
    }
   ],
   "source": [
    "def say(a):\n",
    "    print('hi') #  결과값이 없어 .  return과 print는 다름. 1 \n",
    "print(say('a'))"
   ]
  },
  {
   "cell_type": "markdown",
   "metadata": {},
   "source": [
    "# 가변인자가여러개인 add함수"
   ]
  },
  {
   "cell_type": "code",
   "execution_count": null,
   "metadata": {},
   "outputs": [],
   "source": [
    "# 가변인자가 여러개인 add 함수\n",
    "def add_many(*args):\n",
    "    result = 0\n",
    "    for i in args:\n",
    "        result += i\n",
    "    return result\n",
    "add_many(1,3,5,7,9,11,13,15,17,19)"
   ]
  },
  {
   "cell_type": "code",
   "execution_count": 25,
   "metadata": {},
   "outputs": [
    {
     "name": "stdout",
     "output_type": "stream",
     "text": [
      "55\n",
      "3628800\n"
     ]
    }
   ],
   "source": [
    "def add_mul(c, *args):\n",
    "    if c == \"add\":\n",
    "        result = 0\n",
    "        for i in args:\n",
    "            result += i\n",
    "    elif c == \"mul\":\n",
    "        result = 1\n",
    "        for i in args:\n",
    "            result *= i\n",
    "    return result\n",
    "print(add_mul('add', 1,2,3,4,5,6,7,8,9,10))\n",
    "print(add_mul('mul', 1,2,3,4,5,6,7,8,9,10))\n"
   ]
  },
  {
   "cell_type": "code",
   "execution_count": 57,
   "metadata": {},
   "outputs": [
    {
     "name": "stdout",
     "output_type": "stream",
     "text": [
      "{'a': 1}\n"
     ]
    }
   ],
   "source": [
    "def long(**kwargs):\n",
    "    print(kwargs)\n",
    "long(a=1)      # 이부분이 a=1은 되는데 1=a가 안된다. dict 키 값 제한 때문인가?"
   ]
  },
  {
   "cell_type": "markdown",
   "metadata": {},
   "source": [
    "# 리턴값이 여러개가 올 수 있니?"
   ]
  },
  {
   "cell_type": "code",
   "execution_count": 58,
   "metadata": {},
   "outputs": [],
   "source": [
    "# 리턴값이 2개?"
   ]
  },
  {
   "cell_type": "code",
   "execution_count": 63,
   "metadata": {},
   "outputs": [
    {
     "name": "stdout",
     "output_type": "stream",
     "text": [
      "(7, 10, 32)\n",
      "7 10 32\n"
     ]
    }
   ],
   "source": [
    "def add_and_mul(a,b):\n",
    "    return a+b, a*b, a**b\n",
    "print(add_and_mul(2,5))\n",
    "type(add_and_mul(2,5))          # 이렇게 하면 튜플로 받아서 결과값이 1개\n",
    "\n",
    "a, b,c = add_and_mul(2,5)\n",
    "print(a,b,c)                    # 변수를 a,b,c 세개가 각각 다른 값으로 저장\n"
   ]
  },
  {
   "cell_type": "code",
   "execution_count": 69,
   "metadata": {},
   "outputs": [
    {
     "data": {
      "text/plain": [
       "2"
      ]
     },
     "execution_count": 69,
     "metadata": {},
     "output_type": "execute_result"
    }
   ],
   "source": [
    "def hodol(a,b):\n",
    "    return a*b\n",
    "    return a+b                   # 리턴값은 오직 하나\n",
    "hodol(1,2)"
   ]
  },
  {
   "cell_type": "code",
   "execution_count": 87,
   "metadata": {},
   "outputs": [
    {
     "name": "stdout",
     "output_type": "stream",
     "text": [
      "저는 권민지입니다\n"
     ]
    }
   ],
   "source": [
    "def a(a):\n",
    "    if a == \"빡빡이\":\n",
    "        return print(\"뺑뺑이\")        # 이 구문은 a가 빡빡이일때 실행된다.\n",
    "    print(f'저는 {a}입니다')          # else일때 (a == 빡빡이 가 거짓일떄) 실행\n",
    "a('권민지')"
   ]
  },
  {
   "cell_type": "markdown",
   "metadata": {},
   "source": [
    "# 초기값 설정(default)"
   ]
  },
  {
   "cell_type": "code",
   "execution_count": 96,
   "metadata": {},
   "outputs": [
    {
     "name": "stdout",
     "output_type": "stream",
     "text": [
      "나의 이름은 권삥삥입니다\n",
      "나이는 25살 입니다.\n",
      "남자입니다\n"
     ]
    }
   ],
   "source": [
    "def say_myself(name, old, man=True):\n",
    "    print(f'나의 이름은 {name}입니다')\n",
    "    print(f'나이는 {old}살 입니다.')\n",
    "    if man:\n",
    "          print(\"남자입니다\")\n",
    "    else:\n",
    "          print(\"여자입니다\")\n",
    "say_myself('권삥삥', 25, )"
   ]
  },
  {
   "cell_type": "code",
   "execution_count": 103,
   "metadata": {
    "scrolled": true
   },
   "outputs": [
    {
     "ename": "SyntaxError",
     "evalue": "non-default argument follows default argument (<ipython-input-103-2a10011e31d1>, line 1)",
     "output_type": "error",
     "traceback": [
      "\u001b[1;36m  File \u001b[1;32m\"<ipython-input-103-2a10011e31d1>\"\u001b[1;36m, line \u001b[1;32m1\u001b[0m\n\u001b[1;33m    def say_myself(name, man=True, old):\u001b[0m\n\u001b[1;37m                  ^\u001b[0m\n\u001b[1;31mSyntaxError\u001b[0m\u001b[1;31m:\u001b[0m non-default argument follows default argument\n"
     ]
    }
   ],
   "source": [
    "def say_myself(name, man=True, old):\n",
    "    print(f'나의이름은 {name}입니다.')\n",
    "    print(f'나이는 {old}살 입니다.')\n",
    "    if man:\n",
    "        print('남자입니다')\n",
    "    else:\n",
    "        print(\"여자입니다\")\n",
    "say_myself('권삥삥',25)      # 인자가 3개인데 디폴트 인자 뒤에 일반 인자는 올 수 없다.\n"
   ]
  },
  {
   "cell_type": "markdown",
   "metadata": {},
   "source": [
    "# 범위에 따른 효력"
   ]
  },
  {
   "cell_type": "markdown",
   "metadata": {},
   "source": [
    "### 함수 안에서 사용할 변수 이름이 밖에서도 동일하게 사용된다면??"
   ]
  },
  {
   "cell_type": "code",
   "execution_count": 107,
   "metadata": {},
   "outputs": [
    {
     "name": "stdout",
     "output_type": "stream",
     "text": [
      "2\n",
      "1\n"
     ]
    }
   ],
   "source": [
    "a = 1\n",
    "def vartest(a):\n",
    "    a += 1\n",
    "    return a\n",
    "print(vartest(a))\n",
    "print(a)"
   ]
  }
 ],
 "metadata": {
  "kernelspec": {
   "display_name": "Python 3",
   "language": "python",
   "name": "python3"
  },
  "language_info": {
   "codemirror_mode": {
    "name": "ipython",
    "version": 3
   },
   "file_extension": ".py",
   "mimetype": "text/x-python",
   "name": "python",
   "nbconvert_exporter": "python",
   "pygments_lexer": "ipython3",
   "version": "3.6.7"
  }
 },
 "nbformat": 4,
 "nbformat_minor": 2
}
