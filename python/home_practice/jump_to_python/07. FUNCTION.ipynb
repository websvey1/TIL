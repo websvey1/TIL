{
 "cells": [
  {
   "cell_type": "markdown",
   "metadata": {},
   "source": [
    "# 함수"
   ]
  },
  {
   "cell_type": "code",
   "execution_count": null,
   "metadata": {},
   "outputs": [],
   "source": [
    "def add(a,b):\n",
    "    return a+b\n",
    "add(999, 888)"
   ]
  },
  {
   "cell_type": "code",
   "execution_count": null,
   "metadata": {},
   "outputs": [],
   "source": [
    "def kwon(a):\n",
    "    return f'{a} 바보'\n",
    "kwon('권민지')\n"
   ]
  },
  {
   "cell_type": "code",
   "execution_count": null,
   "metadata": {},
   "outputs": [],
   "source": [
    "def say():   # 입력값이 없다\n",
    "    return 'hi'\n",
    "say()\n"
   ]
  },
  {
   "cell_type": "code",
   "execution_count": null,
   "metadata": {},
   "outputs": [],
   "source": [
    "def say(a):\n",
    "    print('hi') #  결과값이 없어 .  return과 print는 다름. 1 \n",
    "print(say('a'))"
   ]
  },
  {
   "cell_type": "markdown",
   "metadata": {},
   "source": [
    "# 가변인자가여러개인 add함수"
   ]
  },
  {
   "cell_type": "code",
   "execution_count": null,
   "metadata": {},
   "outputs": [],
   "source": [
    "# 가변인자가 여러개인 add 함수\n",
    "def add_many(*args):\n",
    "    result = 0\n",
    "    for i in args:\n",
    "        result += i\n",
    "    return result\n",
    "add_many(1,3,5,7,9,11,13,15,17,19)"
   ]
  },
  {
   "cell_type": "code",
   "execution_count": null,
   "metadata": {},
   "outputs": [],
   "source": [
    "def add_mul(c, *args):\n",
    "    if c == \"add\":\n",
    "        result = 0\n",
    "        for i in args:\n",
    "            result += i\n",
    "    elif c == \"mul\":\n",
    "        result = 1\n",
    "        for i in args:\n",
    "            result *= i\n",
    "    return result\n",
    "print(add_mul('add', 1,2,3,4,5,6,7,8,9,10))\n",
    "print(add_mul('mul', 1,2,3,4,5,6,7,8,9,10))\n"
   ]
  },
  {
   "cell_type": "code",
   "execution_count": null,
   "metadata": {},
   "outputs": [],
   "source": [
    "def long(**kwargs):\n",
    "    print(kwargs)\n",
    "long(a=1)      # 이부분이 a=1은 되는데 1=a가 안된다. dict 키 값 제한 때문인가?"
   ]
  },
  {
   "cell_type": "markdown",
   "metadata": {},
   "source": [
    "# 리턴값이 여러개가 올 수 있니?"
   ]
  },
  {
   "cell_type": "code",
   "execution_count": null,
   "metadata": {},
   "outputs": [],
   "source": [
    "# 리턴값이 2개?"
   ]
  },
  {
   "cell_type": "code",
   "execution_count": null,
   "metadata": {},
   "outputs": [],
   "source": [
    "def add_and_mul(a,b):\n",
    "    return a+b, a*b, a**b\n",
    "print(add_and_mul(2,5))\n",
    "type(add_and_mul(2,5))          # 이렇게 하면 튜플로 받아서 결과값이 1개\n",
    "\n",
    "a, b,c = add_and_mul(2,5)\n",
    "print(a,b,c)                    # 변수를 a,b,c 세개가 각각 다른 값으로 저장\n"
   ]
  },
  {
   "cell_type": "code",
   "execution_count": null,
   "metadata": {},
   "outputs": [],
   "source": [
    "def hodol(a,b):\n",
    "    return a*b\n",
    "    return a+b                   # 리턴값은 오직 하나\n",
    "hodol(1,2)"
   ]
  },
  {
   "cell_type": "code",
   "execution_count": null,
   "metadata": {},
   "outputs": [],
   "source": [
    "def a(a):\n",
    "    if a == \"빡빡이\":\n",
    "        return print(\"뺑뺑이\")        # 이 구문은 a가 빡빡이일때 실행된다.\n",
    "    print(f'저는 {a}입니다')          # else일때 (a == 빡빡이 가 거짓일떄) 실행\n",
    "a('권민지')"
   ]
  },
  {
   "cell_type": "markdown",
   "metadata": {},
   "source": [
    "# 초기값 설정(default)"
   ]
  },
  {
   "cell_type": "code",
   "execution_count": null,
   "metadata": {},
   "outputs": [],
   "source": [
    "def say_myself(name, old, man=True):\n",
    "    print(f'나의 이름은 {name}입니다')\n",
    "    print(f'나이는 {old}살 입니다.')\n",
    "    if man:\n",
    "          print(\"남자입니다\")\n",
    "    else:\n",
    "          print(\"여자입니다\")\n",
    "say_myself('권삥삥', 25, )"
   ]
  },
  {
   "cell_type": "code",
   "execution_count": null,
   "metadata": {
    "scrolled": true
   },
   "outputs": [],
   "source": [
    "def say_myself(name, man=True, old):\n",
    "    print(f'나의이름은 {name}입니다.')\n",
    "    print(f'나이는 {old}살 입니다.')\n",
    "    if man:\n",
    "        print('남자입니다')\n",
    "    else:\n",
    "        print(\"여자입니다\")\n",
    "say_myself('권삥삥',25)      # 인자가 3개인데 디폴트 인자 뒤에 일반 인자는 올 수 없다.\n"
   ]
  },
  {
   "cell_type": "markdown",
   "metadata": {},
   "source": [
    "# 범위에 따른 효력"
   ]
  },
  {
   "cell_type": "markdown",
   "metadata": {},
   "source": [
    "### 함수 안에서 사용할 변수 이름이 밖에서도 동일하게 사용된다면??"
   ]
  },
  {
   "cell_type": "code",
   "execution_count": null,
   "metadata": {},
   "outputs": [],
   "source": [
    "a = 1            #전역변수\n",
    "def vartest(a):  # 함수 내 변수 a\n",
    "    a += 1\n",
    "#     return a    # return이 없는 함수는 모두 None를 반환\n",
    "\"\"\"\n",
    "def vartest(HODOL):\n",
    "    HODOL +=1라는 함수에서 HODOL과 a는 완벽히 같다\n",
    "    \"\"\"\n",
    "print(vartest(3))  # \n",
    "print(a)           #함수가 선언되지 않았으므로 함수내 변수 a가 아닌 전역변수a를 참조"
   ]
  },
  {
   "cell_type": "markdown",
   "metadata": {},
   "source": [
    "### 함수안에서 함수밖의 변수를 변경하는 방법\n"
   ]
  },
  {
   "cell_type": "code",
   "execution_count": null,
   "metadata": {},
   "outputs": [],
   "source": [
    "a = 1\n",
    "def vartest(a):\n",
    "#     global a          #왠지 모르겠지만 안된다.... Not Good !\n",
    "    a += 1\n",
    "    return a     # 방법1 return을 이용하는 것 , Good!\n",
    "vartest(a)\n"
   ]
  },
  {
   "cell_type": "markdown",
   "metadata": {},
   "source": [
    "# 람다(lambda, lamda가 아니다....)\n",
    "\n"
   ]
  },
  {
   "cell_type": "code",
   "execution_count": null,
   "metadata": {},
   "outputs": [],
   "source": [
    "add = lambda a,b: a+b     # lambda는 인자를 받아서 작업을 수행한다\n",
    "result = add(3,4)     # def와 별 차이가 없어보인다...\n",
    "print(result)"
   ]
  },
  {
   "cell_type": "code",
   "execution_count": null,
   "metadata": {},
   "outputs": [],
   "source": [
    "gop = lambda a,b: a*b         \n",
    "gap = gop(5,2)\n",
    "print(gap)\n",
    "jegop = lambda a,b : a**b\n",
    "gap_jegop = jegop(5,3)\n",
    "print(gap_jegop)"
   ]
  },
  {
   "cell_type": "code",
   "execution_count": null,
   "metadata": {},
   "outputs": [],
   "source": [
    "# 람다의 필요성.\n",
    "f = lambda x: x**2 + 2*x-1 # 와같은 다항식 표현 가능함\n",
    "print(f(5)) \n",
    "\n",
    "# lambda는 functional programming이라고 하는 프로그래밍 스타일을 지원한다.\n",
    "# 함수를 값처럼 다른 함수로 전달하는 프로그래밍 스타일 중 하나\n",
    "# ex)\n",
    "\n",
    "mult3 = filter(lambda x:x%3 == 0, [1,2,3,4,5,6,7,8,9])\n",
    "print(list(mult3))\n",
    "\n",
    "# 같은 내용을 함수로 하면\n",
    "def A(x):\n",
    "    return x % 3 == 0\n",
    "mult3_func = filter(A, [1,2,3,4,5,6,7,8,9])\n",
    "print(list(mult3_func))"
   ]
  },
  {
   "cell_type": "code",
   "execution_count": null,
   "metadata": {},
   "outputs": [],
   "source": [
    "# 다음과 같은 경우에서도 lambda는 유용하다\n",
    "def transform(n):\n",
    "    return lambda x: x+n  # 라고 하지만 솔직히 잘 이해되지 않는다\n",
    "f = transform(3)       #여기서 f는 transform 함수에 인자 3을 넣어서 호출하고\n",
    "                       # 그러면 lambda x:x+3이 된다.\n",
    "f(4)                   # 여기서 f=lambda가 정의되지 않ㄴ앗는데 왜 람다가 호출?"
   ]
  },
  {
   "cell_type": "code",
   "execution_count": 5,
   "metadata": {},
   "outputs": [
    {
     "name": "stdout",
     "output_type": "stream",
     "text": [
      "3는 홀수입니다\n"
     ]
    },
    {
     "data": {
      "text/plain": [
       "7.4"
      ]
     },
     "execution_count": 5,
     "metadata": {},
     "output_type": "execute_result"
    }
   ],
   "source": [
    "# 연습문제 1 홀짝함수 만들기\n",
    "def is_hol(data):\n",
    "    if data % 2:\n",
    "        return print(f'{data}는 홀수입니다')\n",
    "    else:\n",
    "        return print(f'{data}는 짝수입니다')\n",
    "is_hol(3)\n",
    "\n",
    "# 연습문제2 갯수가 주어지지 않은 입력된 수의 평균값을 계산해주는 함수\n",
    "def ever(*args):\n",
    "    hap = 0\n",
    "    for i in args:  # 반복문으로 어떻게 받을까??\n",
    "        hap += i\n",
    "    return hap / len(args)\n",
    "ever(11,5,15,3,3)"
   ]
  }
 ],
 "metadata": {
  "kernelspec": {
   "display_name": "Python 3",
   "language": "python",
   "name": "python3"
  },
  "language_info": {
   "codemirror_mode": {
    "name": "ipython",
    "version": 3
   },
   "file_extension": ".py",
   "mimetype": "text/x-python",
   "name": "python",
   "nbconvert_exporter": "python",
   "pygments_lexer": "ipython3",
   "version": "3.6.7"
  }
 },
 "nbformat": 4,
 "nbformat_minor": 2
}
