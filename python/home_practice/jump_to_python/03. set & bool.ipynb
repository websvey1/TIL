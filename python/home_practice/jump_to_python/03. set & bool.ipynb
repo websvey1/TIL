{
 "cells": [
  {
   "cell_type": "code",
   "execution_count": 12,
   "metadata": {},
   "outputs": [
    {
     "name": "stdout",
     "output_type": "stream",
     "text": [
      "{1, 3, 5, 'r', 'w'}\n",
      "{'a', 'y', 'S', 's', 'F'}\n"
     ]
    },
    {
     "data": {
      "text/plain": [
       "['F', 'S', 'a', 's', 'y']"
      ]
     },
     "execution_count": 12,
     "metadata": {},
     "output_type": "execute_result"
    }
   ],
   "source": [
    "#set 만들기\n",
    "s1 = set([1,'w',3,'r',5])\n",
    "\n",
    "print(s1)\n",
    "\n",
    "s2 = set(\"SsaFy\")\n",
    "print(s2)                      # 정렬 하면 어떤 순서로 정렬될까\n",
    "sorted(s2)                     # 대문자 먼저, 소문자 나중, a - z 순\n",
    "                               # set은 순서(index)가 없고 중복이 없다.\n"
   ]
  },
  {
   "cell_type": "code",
   "execution_count": 1,
   "metadata": {},
   "outputs": [
    {
     "name": "stdout",
     "output_type": "stream",
     "text": [
      "{4, 5, 6} 교집합\n",
      "{1, 2, 3, 4, 5, 6, 7, 8, 9}  합집합\n",
      "{1, 2, 3} 차집합\n"
     ]
    },
    {
     "ename": "NameError",
     "evalue": "name 's1' is not defined",
     "output_type": "error",
     "traceback": [
      "\u001b[1;31m---------------------------------------------------------------------------\u001b[0m",
      "\u001b[1;31mNameError\u001b[0m                                 Traceback (most recent call last)",
      "\u001b[1;32m<ipython-input-1-c18dac097807>\u001b[0m in \u001b[0;36m<module>\u001b[1;34m\u001b[0m\n\u001b[0;32m     15\u001b[0m \u001b[0ms1\u001b[0m\u001b[1;33m\u001b[0m\u001b[1;33m\u001b[0m\u001b[0m\n\u001b[0;32m     16\u001b[0m \u001b[1;32mdel\u001b[0m \u001b[0ms1\u001b[0m                        \u001b[1;31m# s1 집합 자체가 제거\u001b[0m\u001b[1;33m\u001b[0m\u001b[1;33m\u001b[0m\u001b[0m\n\u001b[1;32m---> 17\u001b[1;33m \u001b[0ms1\u001b[0m\u001b[1;33m\u001b[0m\u001b[1;33m\u001b[0m\u001b[0m\n\u001b[0m",
      "\u001b[1;31mNameError\u001b[0m: name 's1' is not defined"
     ]
    }
   ],
   "source": [
    "#   집합\n",
    "s1 = set([1, 2, 3, 4, 5, 6])\n",
    "s2 = set([4, 5, 6, 7, 8, 9])\n",
    "print(s1 & s2, \"교집합\")\n",
    "print(s1 | s2, \" 합집합\")\n",
    "print(s1 - s2, \"차집합\")\n",
    "\n",
    "#  값 추가하기\n",
    "s1.add(7)                    # 하나 추가할때 append 가 아니다 ! \n",
    "s2.update([1,2])             # 여러개 추가할떄\n",
    "s2\n",
    "\n",
    "# 특정 값 제거\n",
    "s1.remove(4)                  # index 4가 아닌 값 4가 제거\n",
    "s1\n",
    "del s1                        # s1 집합 자체가 제거\n",
    "s1"
   ]
  },
  {
   "cell_type": "markdown",
   "metadata": {},
   "source": [
    "# 연습문제"
   ]
  },
  {
   "cell_type": "code",
   "execution_count": 4,
   "metadata": {},
   "outputs": [
    {
     "data": {
      "text/plain": [
       "[1, 2, 3, 4, 5]"
      ]
     },
     "execution_count": 4,
     "metadata": {},
     "output_type": "execute_result"
    }
   ],
   "source": [
    "a = [1, 1, 1, 2, 2, 3, 3, 3, 4, 4, 5] # 중복제거하기\n",
    "list(set(a))"
   ]
  },
  {
   "cell_type": "code",
   "execution_count": 10,
   "metadata": {},
   "outputs": [
    {
     "data": {
      "text/plain": [
       "set()"
      ]
     },
     "execution_count": 10,
     "metadata": {},
     "output_type": "execute_result"
    }
   ],
   "source": [
    "                                           # 값이 하나도 없는 비어있는 set을 만들기 위해 다음과 같이 시도 해 보자.\n",
    "\n",
    "\n",
    "a = {}\n",
    "type(a)\n",
    "\n",
    "\n",
    "                                          # 위와 같이 값이 있을 경우에는 집합 자료형으로 인식했지만\n",
    "                                          # 값이 없을경우에는 딕셔너리로 인식하게 된다.\n",
    "                                          # 그렇다면 값이 비어있는 집합 자료형은 어떻게 만들 수 있을까?\n",
    "            \n",
    "b = []\n",
    "set(b)                                    # 빈 리스트르 만들어 세트로 형변환\n",
    "c = set()\n",
    "c                                         # set 함수 사용"
   ]
  },
  {
   "cell_type": "markdown",
   "metadata": {},
   "source": [
    "# bool 자료형"
   ]
  },
  {
   "cell_type": "code",
   "execution_count": 12,
   "metadata": {},
   "outputs": [
    {
     "data": {
      "text/plain": [
       "22"
      ]
     },
     "execution_count": 12,
     "metadata": {},
     "output_type": "execute_result"
    }
   ],
   "source": [
    "1 + True + False + 20               #  True는 1 = 참, False는 0 = 거짓 = None"
   ]
  },
  {
   "cell_type": "code",
   "execution_count": 20,
   "metadata": {},
   "outputs": [
    {
     "name": "stdout",
     "output_type": "stream",
     "text": [
      "4\n",
      "3\n",
      "2\n",
      "1\n"
     ]
    },
    {
     "data": {
      "text/plain": [
       "False"
      ]
     },
     "execution_count": 20,
     "metadata": {},
     "output_type": "execute_result"
    }
   ],
   "source": [
    "a = [1, 2, 3, 4]\n",
    "while a:                            # a가 참일때 while문을 실행, 거짓이 되면 중지.\n",
    "    print(a.pop())\n",
    "A, B, C = [], {}, ''\n",
    "bool(A)                             # ABC 모두 빈 리스트,dict,str이므로 False"
   ]
  }
 ],
 "metadata": {
  "kernelspec": {
   "display_name": "Python 3",
   "language": "python",
   "name": "python3"
  },
  "language_info": {
   "codemirror_mode": {
    "name": "ipython",
    "version": 3
   },
   "file_extension": ".py",
   "mimetype": "text/x-python",
   "name": "python",
   "nbconvert_exporter": "python",
   "pygments_lexer": "ipython3",
   "version": "3.6.7"
  }
 },
 "nbformat": 4,
 "nbformat_minor": 2
}
