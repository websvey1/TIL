{
 "cells": [
  {
   "cell_type": "markdown",
   "metadata": {},
   "source": [
    "# 변수"
   ]
  },
  {
   "cell_type": "code",
   "execution_count": 5,
   "metadata": {},
   "outputs": [
    {
     "name": "stdout",
     "output_type": "stream",
     "text": [
      "1360829926408\n",
      "1360829926408\n",
      "[1, 'a', 3, 'r', 5] [1, 'a', 3, 'r', 5]\n"
     ]
    },
    {
     "data": {
      "text/plain": [
       "True"
      ]
     },
     "execution_count": 5,
     "metadata": {},
     "output_type": "execute_result"
    }
   ],
   "source": [
    "a = [1, 'w', 3, 'r', 5]                       # 변수를 선언함과 동시에 자료형(객체)이 메모리에 생성되고\n",
    "print(id(a))                                   # 변수 a는 리스트가 저장된 메모리의 주소를 가리키게 된다\n",
    "b = a                                         # b와 a는 같을까?\n",
    "print(id(b))\n",
    "b[1] = 'a'     \n",
    "print(a,b)                                  # b만 바꿨는데 a까지 바뀜.\n",
    "a is b"
   ]
  },
  {
   "cell_type": "code",
   "execution_count": 8,
   "metadata": {},
   "outputs": [
    {
     "name": "stdout",
     "output_type": "stream",
     "text": [
      "[1, 'a', 3, 'r', 5] [1, 'w', 3, 'r', 5] [1, 'w', 3, 'r', 5]\n",
      "[1, 'a', 3, 'r', 5, 6] [1, 'w', 3, 'r', 5] [1, 'w', 3, 'r', 5]\n"
     ]
    }
   ],
   "source": [
    "from copy import copy\n",
    "a = [1, 'w', 3, 'r', 5]\n",
    "b = copy(a)                   \n",
    "# c = copy.deepcopy(a)  왜 안 돼지?   \n",
    "d = a[:]                            #deepcopy같이 보이는 sallow copy이다. append로 추가하면 둘다 바뀐다던데..??\n",
    "a[1] = 'a'\n",
    "print(a,b,d)\n",
    "a.append(6)                         # 아닌데..\n",
    "print(a,b,d)"
   ]
  },
  {
   "cell_type": "code",
   "execution_count": 17,
   "metadata": {},
   "outputs": [
    {
     "name": "stdout",
     "output_type": "stream",
     "text": [
      "[1, 2, 3, 4, 5] [1, 2, 3, 4, 5] None\n"
     ]
    }
   ],
   "source": [
    "[a,b] = ['asd', 'zxc']              # 못보던 방식인데 1:1 대응하는 식이고, 리스트로 만들어 지진 않는것같다.\n",
    "a\n",
    "type(b)\n",
    "g = [1,2,3]\n",
    "h = g + [4,5]\n",
    "k = g.extend([4,5])\n",
    "print(g,h,k)                          # extend는 리턴값을 반환하지 않는다. sort와 마찬가지 인듯."
   ]
  }
 ],
 "metadata": {
  "kernelspec": {
   "display_name": "Python 3",
   "language": "python",
   "name": "python3"
  },
  "language_info": {
   "codemirror_mode": {
    "name": "ipython",
    "version": 3
   },
   "file_extension": ".py",
   "mimetype": "text/x-python",
   "name": "python",
   "nbconvert_exporter": "python",
   "pygments_lexer": "ipython3",
   "version": "3.6.7"
  }
 },
 "nbformat": 4,
 "nbformat_minor": 2
}
