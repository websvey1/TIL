{
 "cells": [
  {
   "cell_type": "markdown",
   "metadata": {},
   "source": [
    "# tuple"
   ]
  },
  {
   "cell_type": "markdown",
   "metadata": {},
   "source": [
    "튜플은 값을 변경할 수 없다는 점만 제외하면 리스트와 동일하다.\n",
    "1) index\n",
    "2) slice\n",
    "3) calc ( 더하기 곱하기 )"
   ]
  },
  {
   "cell_type": "code",
   "execution_count": 17,
   "metadata": {},
   "outputs": [
    {
     "name": "stdout",
     "output_type": "stream",
     "text": [
      "123r5\n"
     ]
    }
   ],
   "source": [
    "t1 = ('1', '2', '3', 'r', '5')                 #그럼 튜플 join이나 split은?\n",
    "print(''.join(t1))                             # can,.\n",
    "l1 = ['1', '2', '3', 'r', '5']                 # join이 str만 변환 가능하다는 걸 \n",
    "# ''.join(l1)                                 # 이제야 알았다 .... "
   ]
  },
  {
   "cell_type": "code",
   "execution_count": 40,
   "metadata": {
    "scrolled": true
   },
   "outputs": [
    {
     "name": "stdout",
     "output_type": "stream",
     "text": [
      "2233919103480\n",
      "2233918621736\n"
     ]
    },
    {
     "data": {
      "text/plain": [
       "2233911372200"
      ]
     },
     "execution_count": 40,
     "metadata": {},
     "output_type": "execute_result"
    }
   ],
   "source": [
    "p_tu = (1, 2, 3)\n",
    "print(id(p_tu))\n",
    "ad_tu = (4,)                     # 그냥 4만 넣으면 type이 int로 나온다.\n",
    "print(id(ad_tu))\n",
    "# type(ad_tu)\n",
    "p_tu + ad_tu\n",
    "id(p_tu + ad_tu)                # id값 변화에 유의해서 보자..."
   ]
  },
  {
   "cell_type": "markdown",
   "metadata": {},
   "source": [
    "# dictionary"
   ]
  },
  {
   "cell_type": "code",
   "execution_count": 22,
   "metadata": {
    "scrolled": true
   },
   "outputs": [],
   "source": [
    "a = dict()                     # 하나하나 만들기\n",
    "a['name'] = '홍길동'\n",
    "a['birth'] = '1128'\n",
    "b = {'호돌이':'민디', '28살': '25살', '남자':'여자'}  # 한번에 만들기\n",
    "# a[[0]]     # ditc의 키는 변하는(mutable)값을 사용할 수 없기때문에 오류"
   ]
  },
  {
   "cell_type": "code",
   "execution_count": 41,
   "metadata": {},
   "outputs": [
    {
     "name": "stdout",
     "output_type": "stream",
     "text": [
      "날카로움\n",
      "그런거없다\n",
      "{'나이': '28', '사는곳': '청주', '여자친구': '민디', '성격': '날카로움'}\n"
     ]
    }
   ],
   "source": [
    "HoJoong = {\"나이\":\"28\", \"사는곳\":\"청주\", \"여자친구\":\"민디\", \"성격\":\"날카로움\"}\n",
    "print(HoJoong[\"성격\"])\n",
    "print(HoJoong.get(\"잘래\", \"그런거없다\"))\n",
    "print(HoJoong)"
   ]
  },
  {
   "cell_type": "code",
   "execution_count": 39,
   "metadata": {},
   "outputs": [
    {
     "name": "stdout",
     "output_type": "stream",
     "text": [
      "지역\n",
      "집\n",
      "a\n",
      "b\n",
      "청주\n",
      "비밀\n",
      "{'방': '더러움'}\n",
      "{'책': '짱많음'}\n",
      "지역 청주\n",
      "집 비밀\n",
      "a {'방': '더러움'}\n",
      "b {'책': '짱많음'}\n",
      "지역 : 청주\n",
      "집 : 비밀\n",
      "a : {'방': '더러움'}\n",
      "b : {'책': '짱많음'}\n"
     ]
    }
   ],
   "source": [
    "com_dic = {'지역':'청주', '집':'비밀', 'a' : {'방':'더러움'}, 'b' : {'책':'짱많음'}}\n",
    "# com_dic = {'지역':'청주', '집':'비밀', {'방':'더러움', {'책':'짱많음'}}}\n",
    "                                                #왜 안돼지? dict 접근하는 방법 연습해야함.\n",
    "# com_dic[2]                                      #내가 생각했던 dic는 생성이 불가능했다\n",
    "for i in com_dic:\n",
    "    print(i)                                    # dict는 for문에서 어떻게 출력될까?\n",
    "for k, v in com_dic.items():           \n",
    "    print(v)                                    # value만 출력\n",
    "for k, v in com_dic.items():           \n",
    "    print(k, v)                                    # k v 출력\n",
    "for key in com_dic:\n",
    "    val = com_dic[key]\n",
    "    print(\"%s : %s\" % (key, val))"
   ]
  },
  {
   "cell_type": "code",
   "execution_count": 2,
   "metadata": {},
   "outputs": [
    {
     "ename": "NameError",
     "evalue": "name 'com_dic' is not defined",
     "output_type": "error",
     "traceback": [
      "\u001b[1;31m---------------------------------------------------------------------------\u001b[0m",
      "\u001b[1;31mNameError\u001b[0m                                 Traceback (most recent call last)",
      "\u001b[1;32m<ipython-input-2-cd28dced5226>\u001b[0m in \u001b[0;36m<module>\u001b[1;34m\u001b[0m\n\u001b[1;32m----> 1\u001b[1;33m \u001b[1;32mfor\u001b[0m \u001b[0mk\u001b[0m \u001b[1;32min\u001b[0m \u001b[0mcom_dic\u001b[0m\u001b[1;33m.\u001b[0m\u001b[0mkeys\u001b[0m\u001b[1;33m(\u001b[0m\u001b[1;33m)\u001b[0m\u001b[1;33m:\u001b[0m\u001b[1;33m\u001b[0m\u001b[1;33m\u001b[0m\u001b[0m\n\u001b[0m\u001b[0;32m      2\u001b[0m     \u001b[0mprint\u001b[0m\u001b[1;33m(\u001b[0m\u001b[0mk\u001b[0m\u001b[1;33m)\u001b[0m\u001b[1;33m\u001b[0m\u001b[1;33m\u001b[0m\u001b[0m\n\u001b[0;32m      3\u001b[0m \u001b[1;32mfor\u001b[0m \u001b[0mv\u001b[0m \u001b[1;32min\u001b[0m \u001b[0mcom_dic\u001b[0m\u001b[1;33m.\u001b[0m\u001b[0mvalues\u001b[0m\u001b[1;33m(\u001b[0m\u001b[1;33m)\u001b[0m\u001b[1;33m:\u001b[0m\u001b[1;33m\u001b[0m\u001b[1;33m\u001b[0m\u001b[0m\n\u001b[0;32m      4\u001b[0m     \u001b[0mprint\u001b[0m\u001b[1;33m(\u001b[0m\u001b[0mv\u001b[0m\u001b[1;33m)\u001b[0m\u001b[1;33m\u001b[0m\u001b[1;33m\u001b[0m\u001b[0m\n\u001b[0;32m      5\u001b[0m \u001b[1;32mfor\u001b[0m \u001b[0mk\u001b[0m\u001b[1;33m,\u001b[0m \u001b[0mv\u001b[0m \u001b[1;32min\u001b[0m \u001b[0mcom_dic\u001b[0m\u001b[1;33m.\u001b[0m\u001b[0mitems\u001b[0m\u001b[1;33m(\u001b[0m\u001b[1;33m)\u001b[0m\u001b[1;33m:\u001b[0m\u001b[1;33m\u001b[0m\u001b[1;33m\u001b[0m\u001b[0m\n",
      "\u001b[1;31mNameError\u001b[0m: name 'com_dic' is not defined"
     ]
    }
   ],
   "source": [
    "for k in com_dic.keys():\n",
    "    print(k)\n",
    "for v in com_dic.values():\n",
    "    print(v)\n",
    "for k, v in com_dic.items():\n",
    "    print(f\"{k}는 키이고 {v}는 values입니다\".format(k, v))"
   ]
  },
  {
   "cell_type": "code",
   "execution_count": 34,
   "metadata": {},
   "outputs": [
    {
     "name": "stdout",
     "output_type": "stream",
     "text": [
      "더러움\n",
      "삼\n"
     ]
    }
   ],
   "source": [
    "#dit 접근하기\n",
    "com_dic = {'지역':'청주', '집':'비밀', 'a' : {'방':'더러움'}, 'b' : {'책':'짱많음'}}\n",
    "# 책 꺼내기 ( index 접근)\n",
    "print(com_dic['a']['방'])\n",
    "num_dict = {1:'one', 2:'two', 3:{'tree':'삼'}}\n",
    "print(num_dict[3]['tree'])"
   ]
  },
  {
   "cell_type": "code",
   "execution_count": 43,
   "metadata": {},
   "outputs": [
    {
     "name": "stdout",
     "output_type": "stream",
     "text": [
      "{'지역': '청주', '집': '비밀', 'a': {'방': '더러움'}, 'b': {'책': '짱많음'}, '외모': '깜댕이'}\n"
     ]
    }
   ],
   "source": [
    "com_dic = {'지역':'청주', '집':'비밀', 'a' : {'방':'더러움'}, 'b' : {'책':'짱많음'}}\n",
    "len(com_dic)                               #이 dict의 길이는 몇일까??\n",
    "                                           # 쉼표 기준으로 한다, 4이다\n",
    "com_dic['외모']= '깜댕이'\n",
    "print(com_dic)"
   ]
  },
  {
   "cell_type": "markdown",
   "metadata": {},
   "source": [
    "# mutable  vs  immutable 차이"
   ]
  },
  {
   "cell_type": "code",
   "execution_count": 14,
   "metadata": {},
   "outputs": [
    {
     "name": "stdout",
     "output_type": "stream",
     "text": [
      "1 4\n"
     ]
    }
   ],
   "source": [
    "x = 1                  # 정수형에서 x와 y는 서로 참조하지 않음. 변하지 않는값을 가짐\n",
    "y = x                  # => immutable한 것 => int, str, set 등\n",
    "y += 3\n",
    "print(x,y)"
   ]
  },
  {
   "cell_type": "code",
   "execution_count": 20,
   "metadata": {},
   "outputs": [
    {
     "name": "stdout",
     "output_type": "stream",
     "text": [
      "asd asdZ\n",
      "2087571717680 2087572158928\n"
     ]
    }
   ],
   "source": [
    "a = 'asd'                  # 문자열도 마찬가지다\n",
    "b = a\n",
    "b += 'Z'\n",
    "print(a, b)\n",
    "print(id(a), id(b))      # id를 확인하면 값이 다르다."
   ]
  },
  {
   "cell_type": "code",
   "execution_count": 15,
   "metadata": {},
   "outputs": [
    {
     "name": "stdout",
     "output_type": "stream",
     "text": [
      "[1, 2, 3, 4] [1, 2, 3, 4]\n",
      "2602126021768 2602126021768\n"
     ]
    }
   ],
   "source": [
    "A = [1,2,3]                # 리스트는 둘다 바뀐다. 서로 참조하기때문, \n",
    "B = A                      # 튜플과 딕셔너리도 마찬가지.(딕셔너리는 키:밸류 모두 써야함)\n",
    "B.append(4)                # 이게 sort와 sorted 차이인가?\n",
    "print(A,B)                 # immutable 한 것은 iterable한것인가? ==> 아니다\n",
    "print(id(A), id(B))        # list, str, tuple, dict, set range 등 개체를 하나씩 차례로 반복 가능한 것\n",
    "                           # 정수 같은것은 iterable하지 않다."
   ]
  },
  {
   "cell_type": "code",
   "execution_count": null,
   "metadata": {},
   "outputs": [],
   "source": []
  },
  {
   "cell_type": "markdown",
   "metadata": {},
   "source": [
    "# dict  연습 문제\n"
   ]
  },
  {
   "cell_type": "code",
   "execution_count": 6,
   "metadata": {},
   "outputs": [
    {
     "name": "stdout",
     "output_type": "stream",
     "text": [
      "홍길동\n"
     ]
    }
   ],
   "source": [
    "prac_dict = {250:'홍길동', 'birth': 1128, 'age': 30}\n",
    "type(prac_dict['birth'])\n",
    "print(prac_dict[250])"
   ]
  },
  {
   "cell_type": "markdown",
   "metadata": {},
   "source": [
    "# 2번\n",
    "a['name'] = 'python' => 오류가 발생하지 않는다.\n",
    "\n",
    "a[('a',)] = 'python'=> 오류가 발생하지 않는다. 키 값으로 tuple을 사용할 수 있음.\n",
    "\n",
    "a[[1]] = 'python' => 오류 발생, 키 값은 list로 쓸 수 없다\n",
    "\n",
    "a[250] = 'python' => 오류발생, dict는 인덱스 값이 없다.  X => 변하지 않는 값이므로 사용 가능하다."
   ]
  },
  {
   "cell_type": "code",
   "execution_count": null,
   "metadata": {},
   "outputs": [],
   "source": [
    "# 3번\n",
    "a.get('C', 70)"
   ]
  },
  {
   "cell_type": "markdown",
   "metadata": {},
   "source": []
  }
 ],
 "metadata": {
  "kernelspec": {
   "display_name": "Python 3",
   "language": "python",
   "name": "python3"
  },
  "language_info": {
   "codemirror_mode": {
    "name": "ipython",
    "version": 3
   },
   "file_extension": ".py",
   "mimetype": "text/x-python",
   "name": "python",
   "nbconvert_exporter": "python",
   "pygments_lexer": "ipython3",
   "version": "3.6.7"
  }
 },
 "nbformat": 4,
 "nbformat_minor": 2
}
