{
 "cells": [
  {
   "cell_type": "markdown",
   "metadata": {},
   "source": [
    "# D06_problem_02"
   ]
  },
  {
   "cell_type": "markdown",
   "metadata": {},
   "source": [
    "## 문제\n",
    ">모든 인수의 합계를 반환하는 함수를 만드세요. 입력 값은 함수에 대한 매개 변수로 인덱스와\n",
    "함께 점차 증가합니다."
   ]
  },
  {
   "cell_type": "code",
   "execution_count": 78,
   "metadata": {},
   "outputs": [
    {
     "ename": "SyntaxError",
     "evalue": "invalid syntax (<ipython-input-78-eb33e1f57fb4>, line 11)",
     "output_type": "error",
     "traceback": [
      "\u001b[1;36m  File \u001b[1;32m\"<ipython-input-78-eb33e1f57fb4>\"\u001b[1;36m, line \u001b[1;32m11\u001b[0m\n\u001b[1;33m    인수가 없으면 0을 반환합니다.\u001b[0m\n\u001b[1;37m          ^\u001b[0m\n\u001b[1;31mSyntaxError\u001b[0m\u001b[1;31m:\u001b[0m invalid syntax\n"
     ]
    }
   ],
   "source": [
    "# 예시 1\n",
    "add(3, 4, 5) # returns (3*1)+(4*2)+(5*3)=26\n",
    "\n",
    "# 예시 2\n",
    "add() #=> 0\n",
    "add(1,2,3) #=> 14\n",
    "add(1,4,-5,5) #=> 14\n",
    "\n",
    "\n",
    "# 유의\n",
    "인수가 없으면 0을 반환합니다."
   ]
  },
  {
   "cell_type": "code",
   "execution_count": 90,
   "metadata": {},
   "outputs": [
    {
     "name": "stdout",
     "output_type": "stream",
     "text": [
      "1\n",
      "2\n",
      "3\n",
      "14\n",
      "2\n",
      "5\n",
      "5\n",
      "7\n",
      "7\n",
      "90\n"
     ]
    }
   ],
   "source": [
    "#여기에 코드를 작성하세요\n",
    "def add(*num):\n",
    "    a = []\n",
    "    for i, idx in enumerate(num):\n",
    "        a.append((i+1) * idx)\n",
    "        \n",
    "        print(idx)\n",
    "    return sum(a)\n",
    "\n",
    "print(add(1,2,3))\n",
    "print(add(2, 5, 5, 7, 7))"
   ]
  },
  {
   "cell_type": "markdown",
   "metadata": {},
   "source": [
    "## 문제\n",
    "\n",
    ">같은 숫자가 한개 있거나 두개가 들어있는 리스트가 주어집니다. 이러한 리스트에서 숫자가 한개만있는 요소들의 합을 구하는 함수를 작성하세요.\n",
    "\n",
    "> 예를 들어, repeats([4, 5, 7, 5, 4, 8]) = 15 는 7과 8이 한번만 나오기 때문에 두개를 더한 15가 결과값으로 도출됩니다. "
   ]
  },
  {
   "cell_type": "code",
   "execution_count": 88,
   "metadata": {},
   "outputs": [
    {
     "name": "stdout",
     "output_type": "stream",
     "text": [
      "[4, 4, 7, 8, 10]\n"
     ]
    }
   ],
   "source": [
    "# 여기에 코드를 작성하세요 얼워\n",
    "def repeats(solo):\n",
    "#     print(solo[1:])\n",
    "    a = []\n",
    "    for i in solo:\n",
    "        if i in solo[i:]:\n",
    "            solo.remove(i)\n",
    "    return solo\n",
    "print(repeats([4, 4, 7, 8, 10]))"
   ]
  },
  {
   "cell_type": "code",
   "execution_count": 100,
   "metadata": {},
   "outputs": [
    {
     "name": "stdout",
     "output_type": "stream",
     "text": [
      "25\n"
     ]
    }
   ],
   "source": [
    "def repeats(lonely):\n",
    "    hap = 0\n",
    "    for i in lonely:\n",
    "        a = lonely.count(i)\n",
    "        if a == 1:\n",
    "            hap += i\n",
    "    return hap\n",
    "print(repeats([4, 4, 7, 8, 10]))"
   ]
  },
  {
   "cell_type": "code",
   "execution_count": 101,
   "metadata": {},
   "outputs": [
    {
     "name": "stdout",
     "output_type": "stream",
     "text": [
      "25\n"
     ]
    }
   ],
   "source": [
    "#예랑\n",
    "def repeats(n):\n",
    "    for i in n:\n",
    "        if n.count(i) > 1:\n",
    "            n.remove(i)\n",
    "            n.remove(i)\n",
    "    return sum(n)\n",
    "\n",
    "\n",
    "print(repeats([4, 4, 7, 8, 10]))"
   ]
  },
  {
   "cell_type": "code",
   "execution_count": 91,
   "metadata": {},
   "outputs": [],
   "source": [
    "fruits = ['apple', 'banana', 'cherry']\n",
    "\n",
    "x = fruits.count(\"cherry\")\n"
   ]
  },
  {
   "cell_type": "code",
   "execution_count": null,
   "metadata": {},
   "outputs": [],
   "source": []
  },
  {
   "cell_type": "markdown",
   "metadata": {},
   "source": [
    "## 문제\n",
    "\n",
    ">과수원에 농부 한명이 썩은 과일이 몇개 들어있는 과일 봉지를 가지고 있습니다. (이 과일 봉지는리스트를 의미합니다) 농부는 썩은 과일 조각들을 모두 신선한 것으로 교체하고 싶어합니다. (rotten과일을 신선한 과일로 바꿔야 합니다)\n",
    "\n",
    ">예를 들어,\n",
    "- [\"apple\",\"rottenBanana\",\"apple\"] 이라는 리스트가 주어진 경우, 대체된 리스트는[\"apple\",\"banana\",\"apple\"]이어야 한다. 당신은 썩은 과일들이 신선한 과일로 대체되어 리스트로 만드는 함수를 작성하는 것입니다.\n",
    "\n",
    "\n",
    "> 유의\n",
    "- 만약 리스트가 null/nil/None이거나 비어 있는 경우 빈 리스트를 반환합니다.\n",
    "- 반환된 리스트는 소문자여야 합니다,"
   ]
  },
  {
   "cell_type": "code",
   "execution_count": null,
   "metadata": {},
   "outputs": [],
   "source": [
    "# 여기에 코드를 작성하세요\n",
    "#민수\n",
    "def remove_rotten(l):\n",
    "    result = []\n",
    "    for element in l:\n",
    "        if 'rotten' in element:\n",
    "            result += [element.replace('rotten','')]\n",
    "        else:\n",
    "            result.append(element)\n",
    "    return result\n",
    "print(remove_rotten([\"apple\",\"rottenBanana\",\"apple\"] ))\n",
    "print(remove_rotten([\"rottenapple\",\"rottenBanana\",\"apple\", 'rottenGrape']))\n",
    "# 혜리\n",
    "return [i.replace('rotten','').lower() \n",
    "                if 'rotten' in i else i.lower() for i in args if i]"
   ]
  },
  {
   "cell_type": "markdown",
   "metadata": {},
   "source": [
    "## 문제\n",
    "\n",
    ">마을의 신호등을 제어하는 코드를 작성하려고 합니다. 녹색 -> 노란색 -> 빨간색 \n",
    "-> 녹색으로 변환하는 함수가 필요합니다. \n",
    "\n",
    "> 현재의 불빛 상태를 나타내는 인수하고 함수를 실행 시켰을 때 변경 되어야 하는 빛의 색을 \n",
    "나타내는 함수를 완성하세요.\n",
    "\n",
    ">예시:update_light('green') should return 'yellow'."
   ]
  },
  {
   "cell_type": "code",
   "execution_count": 77,
   "metadata": {},
   "outputs": [
    {
     "name": "stdout",
     "output_type": "stream",
     "text": [
      "green\n"
     ]
    }
   ],
   "source": [
    "# 여기에 코드를 작성하세요.\n",
    "def update_light(color):\n",
    "        dict_c = {'green':'yellow', 'yellow':'red', 'red':'green' }\n",
    "#         k = list(dict_c.keys())   키를 뽑아 리스트를 만듬\n",
    "#         v = list(dict_c.values())\n",
    "#         for i in k:\n",
    "#             if color == i:\n",
    "        return dict_c[color]\n",
    "#                \n",
    "            \n",
    "\n",
    "print(update_light('red'))"
   ]
  },
  {
   "cell_type": "markdown",
   "metadata": {},
   "source": [
    "## 문제\n",
    "\n",
    ">Arara는 셈을 한쌍으로 하는 아마존에 살고 있는 부족입니다. 이들이 행하는 셈의 방식은 다음과 같습니다.\n",
    "\n",
    ">예를 들어, 1에서 8까지는 셈을 한다면,\n",
    "- 1 = anane \n",
    "- 2 = adak \n",
    "- 3 = adak anane \n",
    "- 4 = adak adak \n",
    "- 5 = adak adak anane \n",
    "- 6 = adak adak adak\n",
    "- 7 = adak adak adak anane\n",
    "- 8 = adak adak adak adak \n",
    "\n",
    ">주어진 숫자 인수를 통해 다음과 같은 함수를 작성하세요.\n",
    "\n",
    "\n",
    ">예시\n",
    "- count_arara(3) # -> 'adak anane'\n",
    "- count_arara(8) # -> 'adak adak adak adak'"
   ]
  },
  {
   "cell_type": "code",
   "execution_count": 105,
   "metadata": {},
   "outputs": [
    {
     "name": "stdout",
     "output_type": "stream",
     "text": [
      "adak adak adak \n",
      "adak adak adak anane\n"
     ]
    }
   ],
   "source": [
    "# 구현\n",
    "def count_arara(m_num):\n",
    "    if m_num%2:\n",
    "        return \"adak \"*(m_num//2) + \"anane\"\n",
    "    else:\n",
    "        return \"adak \"*(m_num//2)\n",
    "print(count_arara(6))\n",
    "\n",
    "print(count_arara(7))\n"
   ]
  },
  {
   "cell_type": "code",
   "execution_count": 108,
   "metadata": {},
   "outputs": [
    {
     "name": "stdout",
     "output_type": "stream",
     "text": [
      "adak adak adak \n",
      "adak adak adak anane\n"
     ]
    }
   ],
   "source": [
    "# 기철형\n",
    "def count_arara(blabla):\n",
    "    return (blabla//2)*'adak ' + (blabla%2)*'anane'\n",
    "print(count_arara(6))\n",
    "print(count_arara(7))"
   ]
  },
  {
   "cell_type": "markdown",
   "metadata": {},
   "source": [
    "## 문제 \n",
    "\n",
    "> 제 친구 Rora는 그녀가 하고있는 밴드의 이름을 바꾸고 싶어합니다. \n",
    "그녀는 \"The\" + a 대문자 명사 형태의 밴드 이름을 원합니다. 예를 들어,\"dolphin\" -> \"The Dolphin\"와 같습니다.\n",
    "\n",
    "> 혹은 앞뒤가 같은 단어인 명사를 반복하여 결합하여 첫번째 문자를 대문자로 시작하는 밴드 이름을 \n",
    "만들고 싶어합니다. (이때는 앞쪽에 'The'가 없음) 예를 들어, \"alaska\" -> \"Alaskaalaska\"과 같습니다.\n",
    "\n",
    ">명사를 문자열로 하는 함수를 완성하고 선호하는 밴드 이름을 문자열로 표시하세요."
   ]
  },
  {
   "cell_type": "code",
   "execution_count": 94,
   "metadata": {},
   "outputs": [
    {
     "name": "stdout",
     "output_type": "stream",
     "text": [
      "The Dolphinyap\n",
      "Akaaka\n"
     ]
    }
   ],
   "source": [
    "# 여기에 코드를 작성하세요 상현코드\n",
    "def band_name_generator(name):\n",
    "    \n",
    "    band = \"\"\n",
    "    \n",
    "    if name[0] == name[-1]:\n",
    "        band = name.capitalize() + name\n",
    "    else:\n",
    "        band = \"The \" + name.capitalize()\n",
    "        \n",
    "    return band\n",
    "    \n",
    "print(band_name_generator('dolphinyap'))\n",
    "print(band_name_generator('aka'))"
   ]
  },
  {
   "cell_type": "markdown",
   "metadata": {},
   "source": [
    "## 문제\n",
    "\n",
    ">몇개의 숫자가 주어지면, 사용되지 않은 숫자를 프린트하세요.\n",
    "\n",
    ">예시\n",
    "- unused_digits(12, 34, 56, 78) # \"09\"\n",
    "- unused_digits(2015, 8, 26) # \"3479\"\n",
    "\n",
    ">유의\n",
    "- 결과값은 정렬되어야 합니다.\n"
   ]
  },
  {
   "cell_type": "code",
   "execution_count": 102,
   "metadata": {},
   "outputs": [
    {
     "name": "stdout",
     "output_type": "stream",
     "text": [
      "09\n",
      "0346\n"
     ]
    }
   ],
   "source": [
    "# 여기에 코드를 작성하세요\n",
    "def unused_digits(*args):\n",
    "    digit = set([0,1,2,3,4,5,6,7,8,9])\n",
    "    a = set()\n",
    "    for i in args:\n",
    "        a.update( set(map(int,list(str(i)))) )\n",
    "         \n",
    "    return ''.join(map(str,list(digit - a)))\n",
    " \n",
    "print(unused_digits(12, 34, 56, 78))\n",
    "print(unused_digits(12, 89, 75))"
   ]
  },
  {
   "cell_type": "code",
   "execution_count": 104,
   "metadata": {},
   "outputs": [
    {
     "name": "stdout",
     "output_type": "stream",
     "text": [
      "09\n",
      "0346\n"
     ]
    }
   ],
   "source": [
    "#혜리 한줄코드\n",
    "def unused_digits(*args):\n",
    "    digit = set([0,1,2,3,4,5,6,7,8,9])\n",
    "    return ''.join(sorted(map(str, (set('0123456789') - set(''.join(map(str, args)))))))\n",
    " \n",
    "print(unused_digits(12, 34, 56, 78))\n",
    "print(unused_digits(12, 89, 75))\n",
    "\n"
   ]
  },
  {
   "cell_type": "markdown",
   "metadata": {},
   "source": [
    "## 문제\n",
    "\n",
    ">스트링과 함께 섞여있는 문자열들 속에서 정수만 뽑아내 합을 반환하는 함수를 작성하세요.\n",
    "\n",
    "> 예시\n",
    "- \"The30quick20brown10f0x1203jumps914ov3r1349the102l4zy dog\" \n",
    "- -> 3635"
   ]
  },
  {
   "cell_type": "code",
   "execution_count": 11,
   "metadata": {},
   "outputs": [
    {
     "name": "stdout",
     "output_type": "stream",
     "text": [
      " he30quick20brown10f0x1203jumps914ov3r1349the102l4zy dog\n",
      "  e30quick20brown10f0x1203jumps914ov3r1349t e102l4zy dog\n",
      "   30quick20brown10f0x1203jumps914ov3r1349t  102l4zy dog\n",
      "   30 uick20brown10f0x1203jumps914ov3r1349t  102l4zy dog\n",
      "   30  ick20brown10f0x1203j mps914ov3r1349t  102l4zy dog\n",
      "   30   ck20brown10f0x1203j mps914ov3r1349t  102l4zy dog\n",
      "   30    k20brown10f0x1203j mps914ov3r1349t  102l4zy dog\n",
      "   30     20brown10f0x1203j mps914ov3r1349t  102l4zy dog\n",
      "   30     20 rown10f0x1203j mps914ov3r1349t  102l4zy dog\n",
      "   30     20  own10f0x1203j mps914ov3 1349t  102l4zy dog\n",
      "   30     20   wn10f0x1203j mps914 v3 1349t  102l4zy d g\n",
      "   30     20    n10f0x1203j mps914 v3 1349t  102l4zy d g\n",
      "   30     20     10f0x1203j mps914 v3 1349t  102l4zy d g\n",
      "   30     20     10 0x1203j mps914 v3 1349t  102l4zy d g\n",
      "   30     20     10 0 1203j mps914 v3 1349t  102l4zy d g\n",
      "   30     20     10 0 1203  mps914 v3 1349t  102l4zy d g\n",
      "   30     20     10 0 1203  mps914 v3 1349t  102l4zy d g\n",
      "   30     20     10 0 1203   ps914 v3 1349t  102l4zy d g\n",
      "   30     20     10 0 1203    s914 v3 1349t  102l4zy d g\n",
      "   30     20     10 0 1203     914 v3 1349t  102l4zy d g\n",
      "   30     20     10 0 1203     914 v3 1349t  102l4zy d g\n",
      "   30     20     10 0 1203     914  3 1349t  102l4zy d g\n",
      "   30     20     10 0 1203     914  3 1349t  102l4zy d g\n",
      "   30     20     10 0 1203     914  3 1349   102l4zy d g\n",
      "   30     20     10 0 1203     914  3 1349   102l4zy d g\n",
      "   30     20     10 0 1203     914  3 1349   102l4zy d g\n",
      "   30     20     10 0 1203     914  3 1349   102 4zy d g\n",
      "   30     20     10 0 1203     914  3 1349   102 4 y d g\n",
      "   30     20     10 0 1203     914  3 1349   102 4   d g\n",
      "   30     20     10 0 1203     914  3 1349   102 4   d g\n",
      "   30     20     10 0 1203     914  3 1349   102 4     g\n",
      "   30     20     10 0 1203     914  3 1349   102 4     g\n",
      "   30     20     10 0 1203     914  3 1349   102 4      \n",
      "3635\n"
     ]
    }
   ],
   "source": [
    "# 여기에 코드를 작성하세요 isdigit split  replace\n",
    "def sum_of_integers_in_string(foo):\n",
    "    for x in foo:\n",
    "        if not x.isdigit():\n",
    "            foo = foo.replace(x, ' ')\n",
    "            print(foo)\n",
    "    return sum(map(int, foo.split()))\n",
    "\n",
    "print(sum_of_integers_in_string(\"The30quick20brown10f0x1203jumps914ov3r1349the102l4zy dog\"))"
   ]
  }
 ],
 "metadata": {
  "kernelspec": {
   "display_name": "Python 3",
   "language": "python",
   "name": "python3"
  },
  "language_info": {
   "codemirror_mode": {
    "name": "ipython",
    "version": 3
   },
   "file_extension": ".py",
   "mimetype": "text/x-python",
   "name": "python",
   "nbconvert_exporter": "python",
   "pygments_lexer": "ipython3",
   "version": "3.6.7"
  },
  "toc": {
   "base_numbering": 1,
   "nav_menu": {},
   "number_sections": true,
   "sideBar": true,
   "skip_h1_title": false,
   "title_cell": "Table of Contents",
   "title_sidebar": "Contents",
   "toc_cell": false,
   "toc_position": {},
   "toc_section_display": true,
   "toc_window_display": false
  }
 },
 "nbformat": 4,
 "nbformat_minor": 2
}
