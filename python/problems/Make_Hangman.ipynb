{
 "cells": [
  {
   "cell_type": "markdown",
   "metadata": {},
   "source": [
    "# 행맨 게임 만들기 "
   ]
  },
  {
   "cell_type": "markdown",
   "metadata": {},
   "source": [
    "## 답안 확인 하기\n",
    "\n",
    "> 행맨 게임을 위한 코드를 작성해봅시다. \n",
    ">\n",
    "> `isanswer(answer, letters)`는 정답 문자열(answer)과 추측 알파벳의 리스트(letters)를 받아서, True/False 결과를 반환합니다."
   ]
  },
  {
   "cell_type": "code",
   "execution_count": 152,
   "metadata": {},
   "outputs": [],
   "source": [
    "# 여기에 코드를 작성하세요.\n",
    "def isanswer(answer, letters):\n",
    "#     ans_list = answer.split(',')\n",
    "    ans_list = list(''.join(answer))\n",
    "    for i in ans_list:\n",
    "        if i is 'p':\n",
    "            ans_list.remove(i)\n",
    "    print(ans_list)\n",
    "#     for i in ans_list:\n",
    "#         if list(sorted(ans_list)) == letters:\n",
    "#             return True"
   ]
  },
  {
   "cell_type": "code",
   "execution_count": 188,
   "metadata": {},
   "outputs": [],
   "source": [
    "def isanswer(answer, letters):\n",
    "    ans_list2 = letters\n",
    "    print(ans_list2)\n",
    "    print(sorted(set(answer)))\n",
    "    if sorted(set(answer)) == ans_list2:\n",
    "        return True\n",
    "    else:\n",
    "        return False\n"
   ]
  },
  {
   "cell_type": "code",
   "execution_count": 189,
   "metadata": {},
   "outputs": [],
   "source": [
    "def isanswer(answer, letters):\n",
    "    return not (set(answer) - set(letters)) # 갯수가 있으면 실패, 없으면 성공\n",
    "    return set(answer) == set(letters)"
   ]
  },
  {
   "cell_type": "code",
   "execution_count": 190,
   "metadata": {
    "scrolled": true
   },
   "outputs": [
    {
     "data": {
      "text/plain": [
       "True"
      ]
     },
     "execution_count": 190,
     "metadata": {},
     "output_type": "execute_result"
    }
   ],
   "source": [
    "# isanswer('apple', ['a', 'p', 'l']) #=> False\n",
    "isanswer('apple', ['a', 'p', 'l', 'e']) #=> True"
   ]
  },
  {
   "cell_type": "markdown",
   "metadata": {},
   "source": [
    "## 현재 상태 출력하기\n",
    "\n",
    "> 행맨 게임을 위한 코드를 작성해봅시다. \n",
    ">\n",
    "> `status(answer, letters)`는 정답 문자열(answer)과 추측 알파벳의 리스트(letters)를 받아서, 현재 결과를 반환합니다."
   ]
  },
  {
   "cell_type": "code",
   "execution_count": 1,
   "metadata": {},
   "outputs": [],
   "source": [
    "# replace 상근\n",
    "def status(answer, letters):\n",
    "    corrects = set(answer) & set(letters)\n",
    "    return \"\".join([i  if i in corrects else \"_\" for i in answer])"
   ]
  },
  {
   "cell_type": "code",
   "execution_count": 2,
   "metadata": {},
   "outputs": [
    {
     "data": {
      "text/plain": [
       "'appl_'"
      ]
     },
     "execution_count": 2,
     "metadata": {},
     "output_type": "execute_result"
    }
   ],
   "source": [
    "status('apple', ['a', 'p', 'l']) #=> 'appl_'"
   ]
  },
  {
   "cell_type": "markdown",
   "metadata": {},
   "source": [
    "## 행맨 로직 만들기 - 자유코딩!\n",
    "\n",
    "> 위의 코드를 활용하여 `hangman(answer)`를 만들어봅시다!\n",
    ">\n",
    "> 사용자가 답을 맞출 때까지 진행하며, 8번내로 정답을 맞춰야 합니다.\n"
   ]
  },
  {
   "cell_type": "code",
   "execution_count": 193,
   "metadata": {},
   "outputs": [],
   "source": [
    "def hangman(answer):\n",
    "    while True:\n",
    "        letters = input('알파벳을 입력하세요 : ')\n",
    "        if len(letters) <= 8:\n",
    "            n = 8\n",
    "            while n>0:\n",
    "                for alp in answer:\n",
    "                    if alp not in letters:\n",
    "                        answer = answer.replace(alp, '_')\n",
    "                        n = n-1\n",
    "                    else:\n",
    "                        n = n-1\n",
    "            if set(answer) - set(letters) == set(): \n",
    "                print('정답입니다')\n",
    "            else:\n",
    "                print('틀렸습니다')\n",
    "            break\n",
    "        print(\"너무 깁니다\")            \n",
    "    return answer"
   ]
  },
  {
   "cell_type": "code",
   "execution_count": 199,
   "metadata": {},
   "outputs": [
    {
     "name": "stdout",
     "output_type": "stream",
     "text": [
      "남은리스트:  a,b,c,d,e,f,g,h,i,j,k,l,m,n,o,p,q,r,s,t,u,w,x,y,z\n",
      "알파벳뭐넣을거임?5\n",
      "영어소문자하나만 넣어야하고 이미넣었던건안되\n",
      "카운트는 여전히 0야 \n",
      "남은리스트:  a,b,c,d,e,f,g,h,i,j,k,l,m,n,o,p,q,r,s,t,u,w,x,y,z\n",
      "알파벳뭐넣을거임?b\n",
      "현재 단어상황 >> _____ <<\n",
      "현재까지 1번째 시도하였습니다.\n",
      "-----------------------\n",
      "남은리스트:  a,c,d,e,f,g,h,i,j,k,l,m,n,o,p,q,r,s,t,u,w,x,y,z\n",
      "알파벳뭐넣을거임?2\n",
      "영어소문자하나만 넣어야하고 이미넣었던건안되\n",
      "카운트는 여전히 1야 \n",
      "남은리스트:  a,c,d,e,f,g,h,i,j,k,l,m,n,o,p,q,r,s,t,u,w,x,y,z\n",
      "알파벳뭐넣을거임?2\n",
      "영어소문자하나만 넣어야하고 이미넣었던건안되\n",
      "카운트는 여전히 1야 \n",
      "남은리스트:  a,c,d,e,f,g,h,i,j,k,l,m,n,o,p,q,r,s,t,u,w,x,y,z\n",
      "알파벳뭐넣을거임?c\n",
      "현재 단어상황 >> _____ <<\n",
      "현재까지 2번째 시도하였습니다.\n",
      "-----------------------\n",
      "남은리스트:  a,d,e,f,g,h,i,j,k,l,m,n,o,p,q,r,s,t,u,w,x,y,z\n",
      "알파벳뭐넣을거임?1\n",
      "영어소문자하나만 넣어야하고 이미넣었던건안되\n",
      "카운트는 여전히 2야 \n",
      "남은리스트:  a,d,e,f,g,h,i,j,k,l,m,n,o,p,q,r,s,t,u,w,x,y,z\n",
      "알파벳뭐넣을거임?a\n",
      "현재 단어상황 >> a____ <<\n",
      "현재까지 3번째 시도하였습니다.\n",
      "-----------------------\n",
      "남은리스트:  d,e,f,g,h,i,j,k,l,m,n,o,p,q,r,s,t,u,w,x,y,z\n",
      "알파벳뭐넣을거임?a\n",
      "영어소문자하나만 넣어야하고 이미넣었던건안되\n",
      "카운트는 여전히 3야 \n",
      "남은리스트:  d,e,f,g,h,i,j,k,l,m,n,o,p,q,r,s,t,u,w,x,y,z\n",
      "알파벳뭐넣을거임?a\n",
      "영어소문자하나만 넣어야하고 이미넣었던건안되\n",
      "카운트는 여전히 3야 \n",
      "남은리스트:  d,e,f,g,h,i,j,k,l,m,n,o,p,q,r,s,t,u,w,x,y,z\n",
      "알파벳뭐넣을거임?a\n",
      "영어소문자하나만 넣어야하고 이미넣었던건안되\n",
      "카운트는 여전히 3야 \n",
      "남은리스트:  d,e,f,g,h,i,j,k,l,m,n,o,p,q,r,s,t,u,w,x,y,z\n",
      "알파벳뭐넣을거임?s\n",
      "현재 단어상황 >> a____ <<\n",
      "현재까지 4번째 시도하였습니다.\n",
      "-----------------------\n",
      "남은리스트:  d,e,f,g,h,i,j,k,l,m,n,o,p,q,r,t,u,w,x,y,z\n",
      "알파벳뭐넣을거임?z\n",
      "현재 단어상황 >> a____ <<\n",
      "현재까지 5번째 시도하였습니다.\n",
      "-----------------------\n",
      "남은리스트:  d,e,f,g,h,i,j,k,l,m,n,o,p,q,r,t,u,w,x,y\n",
      "알파벳뭐넣을거임?x\n",
      "현재 단어상황 >> a____ <<\n",
      "현재까지 6번째 시도하였습니다.\n",
      "-----------------------\n",
      "남은리스트:  d,e,f,g,h,i,j,k,l,m,n,o,p,q,r,t,u,w,y\n",
      "알파벳뭐넣을거임?c\n",
      "영어소문자하나만 넣어야하고 이미넣었던건안되\n",
      "카운트는 여전히 6야 \n",
      "남은리스트:  d,e,f,g,h,i,j,k,l,m,n,o,p,q,r,t,u,w,y\n",
      "알파벳뭐넣을거임?q\n",
      "현재 단어상황 >> a____ <<\n",
      "현재까지 7번째 시도하였습니다.\n",
      "-----------------------\n",
      "남은리스트:  d,e,f,g,h,i,j,k,l,m,n,o,p,r,t,u,w,y\n",
      "알파벳뭐넣을거임?w\n",
      "현재 단어상황 >> a____ <<\n",
      "현재까지 8번째 시도하였습니다.\n",
      "-----------------------\n",
      "다음기회에/..\n"
     ]
    }
   ],
   "source": [
    "hangman('apple')"
   ]
  },
  {
   "cell_type": "code",
   "execution_count": 198,
   "metadata": {},
   "outputs": [],
   "source": [
    "def hangman(answer):\n",
    "    count = 0 #몇번째인지 카운트하는거임\n",
    "    active = 8 #몇번까지하면 종료인지 설정하는거\n",
    "    answer = answer.lower()\n",
    "    answersheet = [] #여태까지 선택한 답안들의모음\n",
    "    alphabetlist = 'abcdefghijklmnopqrstuwxyz' #남은 선택지리스트입니다.\n",
    "    while count < active and not isanswer(answer,answersheet): # 답을 아직 못맞춰거나 제한횟수전일때까지만 while loop\n",
    "        print(\"남은리스트: \", \",\".join(alphabetlist))       #남은 선택지리스트를 보여줌\n",
    "        selection = input(\"알파벳뭐넣을거임?\")   #유저선택을 받아옴\n",
    "        if selection not in alphabetlist:                  #이미선택했는지 검증\n",
    "            print(\"영어소문자하나만 넣어야하고 이미넣었던건안되\")\n",
    "            print(f\"카운트는 여전히 {count}야 \")\n",
    "            continue\n",
    "        answersheet.append(selection)              #아직 선택안됐으면 앤서쉬트에 넣음\n",
    "        alphabetlist = alphabetlist.replace(selection, \"\")          #선택한알파벳제거\n",
    "        print(f\"현재 단어상황 >> {status(answer, answersheet)} <<\")    #현재까지완성된단어보여줌\n",
    "        count +=1              #카운트+1\n",
    "        print(f\"현재까지 {count}번째 시도하였습니다.\")      \n",
    "        print(\"-----------------------\") \n",
    "    if isanswer(answer,answersheet):\n",
    "        print(status(answer,answersheet))\n",
    "        print(\"정답축하해요\")\n",
    "    else:\n",
    "        print(\"다음기회에/..\")"
   ]
  }
 ],
 "metadata": {
  "kernelspec": {
   "display_name": "Python 3",
   "language": "python",
   "name": "python3"
  },
  "language_info": {
   "codemirror_mode": {
    "name": "ipython",
    "version": 3
   },
   "file_extension": ".py",
   "mimetype": "text/x-python",
   "name": "python",
   "nbconvert_exporter": "python",
   "pygments_lexer": "ipython3",
   "version": "3.6.7"
  },
  "latex_envs": {
   "LaTeX_envs_menu_present": true,
   "autoclose": false,
   "autocomplete": true,
   "bibliofile": "biblio.bib",
   "cite_by": "apalike",
   "current_citInitial": 1,
   "eqLabelWithNumbers": true,
   "eqNumInitial": 1,
   "hotkeys": {
    "equation": "Ctrl-E",
    "itemize": "Ctrl-I"
   },
   "labels_anchors": false,
   "latex_user_defs": false,
   "report_style_numbering": false,
   "user_envs_cfg": false
  },
  "toc": {
   "base_numbering": 1,
   "nav_menu": {},
   "number_sections": true,
   "sideBar": true,
   "skip_h1_title": false,
   "title_cell": "Table of Contents",
   "title_sidebar": "Contents",
   "toc_cell": false,
   "toc_position": {},
   "toc_section_display": true,
   "toc_window_display": false
  }
 },
 "nbformat": 4,
 "nbformat_minor": 2
}
